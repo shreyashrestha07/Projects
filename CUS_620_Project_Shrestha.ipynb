{
  "nbformat": 4,
  "nbformat_minor": 0,
  "metadata": {
    "kernelspec": {
      "display_name": "Python 3",
      "language": "python",
      "name": "python3"
    },
    "language_info": {
      "codemirror_mode": {
        "name": "ipython",
        "version": 3
      },
      "file_extension": ".py",
      "mimetype": "text/x-python",
      "name": "python",
      "nbconvert_exporter": "python",
      "pygments_lexer": "ipython3",
      "version": "3.8.3"
    },
    "colab": {
      "name": "CUS 620 Project_Shrestha.ipynb",
      "provenance": [],
      "include_colab_link": true
    }
  },
  "cells": [
    {
      "cell_type": "markdown",
      "metadata": {
        "id": "view-in-github",
        "colab_type": "text"
      },
      "source": [
        "<a href=\"https://colab.research.google.com/github/shreyashrestha07/Projects/blob/main/CUS_620_Project_Shrestha.ipynb\" target=\"_parent\"><img src=\"https://colab.research.google.com/assets/colab-badge.svg\" alt=\"Open In Colab\"/></a>"
      ]
    },
    {
      "cell_type": "markdown",
      "metadata": {
        "id": "SkolvAnA6N5q"
      },
      "source": [
        "## CUS-620 Project 🐍\n",
        "### Name: Shreya Shrestha\n",
        "### Topic: 2k20 NBA Player Analysis\n",
        "\n",
        "- Data Set Source : Kaggle (csv file)\n",
        "- Link to Dataset : [link](https://www.kaggle.com/isaienkov/nba2k20-player-dataset)\n",
        "\n",
        "--------------\n",
        "\n",
        "#### Understanding the project and data: 📊\n",
        "`The dataset consist data of 429 ditinct players and 14 attributes that describes each player`\n"
      ]
    },
    {
      "cell_type": "markdown",
      "metadata": {
        "id": "SXqZjURD6N5t"
      },
      "source": [
        "### Project GOALS:\n",
        "- Create a program that analyzes the dataset and provide insights on player's performance and background\n",
        "- Build a user interactive program that will take input values from the user and perform the functions accordingly"
      ]
    },
    {
      "cell_type": "markdown",
      "metadata": {
        "id": "kR5yuoUk6N5t"
      },
      "source": [
        "### Importing Packages"
      ]
    },
    {
      "cell_type": "code",
      "metadata": {
        "id": "5c2mHa636N5t"
      },
      "source": [
        "import pandas as pd\n",
        "import numpy as np\n",
        "import matplotlib.pyplot as plt\n",
        "%matplotlib inline\n",
        "import datetime\n",
        "import seaborn as sns\n"
      ],
      "execution_count": null,
      "outputs": []
    },
    {
      "cell_type": "markdown",
      "metadata": {
        "id": "T-PbjX8D6N5u"
      },
      "source": [
        "### Importing the dataset as data frame (df)"
      ]
    },
    {
      "cell_type": "code",
      "metadata": {
        "id": "DioT-oEW6N5u"
      },
      "source": [
        "df = pd.read_csv('nba2k20-full.csv') #to read the csv file\n"
      ],
      "execution_count": null,
      "outputs": []
    },
    {
      "cell_type": "code",
      "metadata": {
        "id": "ko6Dv5NR6N5u",
        "outputId": "43cfdea3-4f04-490e-9e7c-e930610ac2c8"
      },
      "source": [
        "df.head(10) #to see the first 10 rows\n"
      ],
      "execution_count": null,
      "outputs": [
        {
          "output_type": "execute_result",
          "data": {
            "text/html": [
              "<div>\n",
              "<style scoped>\n",
              "    .dataframe tbody tr th:only-of-type {\n",
              "        vertical-align: middle;\n",
              "    }\n",
              "\n",
              "    .dataframe tbody tr th {\n",
              "        vertical-align: top;\n",
              "    }\n",
              "\n",
              "    .dataframe thead th {\n",
              "        text-align: right;\n",
              "    }\n",
              "</style>\n",
              "<table border=\"1\" class=\"dataframe\">\n",
              "  <thead>\n",
              "    <tr style=\"text-align: right;\">\n",
              "      <th></th>\n",
              "      <th>full_name</th>\n",
              "      <th>rating</th>\n",
              "      <th>jersey</th>\n",
              "      <th>team</th>\n",
              "      <th>position</th>\n",
              "      <th>b_day</th>\n",
              "      <th>height</th>\n",
              "      <th>weight</th>\n",
              "      <th>salary</th>\n",
              "      <th>country</th>\n",
              "      <th>draft_year</th>\n",
              "      <th>draft_round</th>\n",
              "      <th>draft_peak</th>\n",
              "      <th>college</th>\n",
              "    </tr>\n",
              "  </thead>\n",
              "  <tbody>\n",
              "    <tr>\n",
              "      <th>0</th>\n",
              "      <td>LeBron James</td>\n",
              "      <td>97</td>\n",
              "      <td>#23</td>\n",
              "      <td>Los Angeles Lakers</td>\n",
              "      <td>F</td>\n",
              "      <td>12/30/84</td>\n",
              "      <td>6-9 / 2.06</td>\n",
              "      <td>250 lbs. / 113.4 kg.</td>\n",
              "      <td>$37436858</td>\n",
              "      <td>USA</td>\n",
              "      <td>2003</td>\n",
              "      <td>1</td>\n",
              "      <td>1</td>\n",
              "      <td>NaN</td>\n",
              "    </tr>\n",
              "    <tr>\n",
              "      <th>1</th>\n",
              "      <td>Kawhi Leonard</td>\n",
              "      <td>97</td>\n",
              "      <td>#2</td>\n",
              "      <td>Los Angeles Clippers</td>\n",
              "      <td>F</td>\n",
              "      <td>06/29/91</td>\n",
              "      <td>6-7 / 2.01</td>\n",
              "      <td>225 lbs. / 102.1 kg.</td>\n",
              "      <td>$32742000</td>\n",
              "      <td>USA</td>\n",
              "      <td>2011</td>\n",
              "      <td>1</td>\n",
              "      <td>15</td>\n",
              "      <td>San Diego State</td>\n",
              "    </tr>\n",
              "    <tr>\n",
              "      <th>2</th>\n",
              "      <td>Giannis Antetokounmpo</td>\n",
              "      <td>96</td>\n",
              "      <td>#34</td>\n",
              "      <td>Milwaukee Bucks</td>\n",
              "      <td>F-G</td>\n",
              "      <td>12/06/94</td>\n",
              "      <td>6-11 / 2.11</td>\n",
              "      <td>242 lbs. / 109.8 kg.</td>\n",
              "      <td>$25842697</td>\n",
              "      <td>Greece</td>\n",
              "      <td>2013</td>\n",
              "      <td>1</td>\n",
              "      <td>15</td>\n",
              "      <td>NaN</td>\n",
              "    </tr>\n",
              "    <tr>\n",
              "      <th>3</th>\n",
              "      <td>Kevin Durant</td>\n",
              "      <td>96</td>\n",
              "      <td>#7</td>\n",
              "      <td>Brooklyn Nets</td>\n",
              "      <td>F</td>\n",
              "      <td>09/29/88</td>\n",
              "      <td>6-10 / 2.08</td>\n",
              "      <td>230 lbs. / 104.3 kg.</td>\n",
              "      <td>$37199000</td>\n",
              "      <td>USA</td>\n",
              "      <td>2007</td>\n",
              "      <td>1</td>\n",
              "      <td>2</td>\n",
              "      <td>Texas</td>\n",
              "    </tr>\n",
              "    <tr>\n",
              "      <th>4</th>\n",
              "      <td>James Harden</td>\n",
              "      <td>96</td>\n",
              "      <td>#13</td>\n",
              "      <td>Houston Rockets</td>\n",
              "      <td>G</td>\n",
              "      <td>08/26/89</td>\n",
              "      <td>6-5 / 1.96</td>\n",
              "      <td>220 lbs. / 99.8 kg.</td>\n",
              "      <td>$38199000</td>\n",
              "      <td>USA</td>\n",
              "      <td>2009</td>\n",
              "      <td>1</td>\n",
              "      <td>3</td>\n",
              "      <td>Arizona State</td>\n",
              "    </tr>\n",
              "    <tr>\n",
              "      <th>5</th>\n",
              "      <td>Stephen Curry</td>\n",
              "      <td>95</td>\n",
              "      <td>#30</td>\n",
              "      <td>Golden State Warriors</td>\n",
              "      <td>G</td>\n",
              "      <td>03/14/88</td>\n",
              "      <td>6-3 / 1.91</td>\n",
              "      <td>185 lbs. / 83.9 kg.</td>\n",
              "      <td>$40231758</td>\n",
              "      <td>USA</td>\n",
              "      <td>2009</td>\n",
              "      <td>1</td>\n",
              "      <td>7</td>\n",
              "      <td>Davidson</td>\n",
              "    </tr>\n",
              "    <tr>\n",
              "      <th>6</th>\n",
              "      <td>Anthony Davis</td>\n",
              "      <td>94</td>\n",
              "      <td>#3</td>\n",
              "      <td>Los Angeles Lakers</td>\n",
              "      <td>F-C</td>\n",
              "      <td>03/11/93</td>\n",
              "      <td>6-10 / 2.08</td>\n",
              "      <td>222 lbs. / 100.7 kg.</td>\n",
              "      <td>$27093019</td>\n",
              "      <td>USA</td>\n",
              "      <td>2012</td>\n",
              "      <td>1</td>\n",
              "      <td>1</td>\n",
              "      <td>Kentucky</td>\n",
              "    </tr>\n",
              "    <tr>\n",
              "      <th>7</th>\n",
              "      <td>Paul George</td>\n",
              "      <td>93</td>\n",
              "      <td>#13</td>\n",
              "      <td>Los Angeles Clippers</td>\n",
              "      <td>F</td>\n",
              "      <td>05/02/90</td>\n",
              "      <td>6-8 / 2.03</td>\n",
              "      <td>210 lbs. / 95.3 kg.</td>\n",
              "      <td>$33005556</td>\n",
              "      <td>USA</td>\n",
              "      <td>2010</td>\n",
              "      <td>1</td>\n",
              "      <td>10</td>\n",
              "      <td>Fresno State</td>\n",
              "    </tr>\n",
              "    <tr>\n",
              "      <th>8</th>\n",
              "      <td>Damian Lillard</td>\n",
              "      <td>92</td>\n",
              "      <td>#0</td>\n",
              "      <td>Portland Trail Blazers</td>\n",
              "      <td>G</td>\n",
              "      <td>07/15/90</td>\n",
              "      <td>6-2 / 1.88</td>\n",
              "      <td>195 lbs. / 88.5 kg.</td>\n",
              "      <td>$29802321</td>\n",
              "      <td>USA</td>\n",
              "      <td>2012</td>\n",
              "      <td>1</td>\n",
              "      <td>6</td>\n",
              "      <td>Weber State</td>\n",
              "    </tr>\n",
              "    <tr>\n",
              "      <th>9</th>\n",
              "      <td>Joel Embiid</td>\n",
              "      <td>91</td>\n",
              "      <td>#21</td>\n",
              "      <td>Philadelphia 76ers</td>\n",
              "      <td>C</td>\n",
              "      <td>03/16/94</td>\n",
              "      <td>7-0 / 2.13</td>\n",
              "      <td>250 lbs. / 113.4 kg.</td>\n",
              "      <td>$27504630</td>\n",
              "      <td>Cameroon</td>\n",
              "      <td>2014</td>\n",
              "      <td>1</td>\n",
              "      <td>3</td>\n",
              "      <td>Kansas</td>\n",
              "    </tr>\n",
              "  </tbody>\n",
              "</table>\n",
              "</div>"
            ],
            "text/plain": [
              "               full_name  rating jersey                    team position  \\\n",
              "0           LeBron James      97    #23      Los Angeles Lakers        F   \n",
              "1          Kawhi Leonard      97     #2    Los Angeles Clippers        F   \n",
              "2  Giannis Antetokounmpo      96    #34         Milwaukee Bucks      F-G   \n",
              "3           Kevin Durant      96     #7           Brooklyn Nets        F   \n",
              "4           James Harden      96    #13         Houston Rockets        G   \n",
              "5          Stephen Curry      95    #30   Golden State Warriors        G   \n",
              "6          Anthony Davis      94     #3      Los Angeles Lakers      F-C   \n",
              "7            Paul George      93    #13    Los Angeles Clippers        F   \n",
              "8         Damian Lillard      92     #0  Portland Trail Blazers        G   \n",
              "9            Joel Embiid      91    #21      Philadelphia 76ers        C   \n",
              "\n",
              "      b_day       height                weight     salary   country  \\\n",
              "0  12/30/84   6-9 / 2.06  250 lbs. / 113.4 kg.  $37436858       USA   \n",
              "1  06/29/91   6-7 / 2.01  225 lbs. / 102.1 kg.  $32742000       USA   \n",
              "2  12/06/94  6-11 / 2.11  242 lbs. / 109.8 kg.  $25842697    Greece   \n",
              "3  09/29/88  6-10 / 2.08  230 lbs. / 104.3 kg.  $37199000       USA   \n",
              "4  08/26/89   6-5 / 1.96   220 lbs. / 99.8 kg.  $38199000       USA   \n",
              "5  03/14/88   6-3 / 1.91   185 lbs. / 83.9 kg.  $40231758       USA   \n",
              "6  03/11/93  6-10 / 2.08  222 lbs. / 100.7 kg.  $27093019       USA   \n",
              "7  05/02/90   6-8 / 2.03   210 lbs. / 95.3 kg.  $33005556       USA   \n",
              "8  07/15/90   6-2 / 1.88   195 lbs. / 88.5 kg.  $29802321       USA   \n",
              "9  03/16/94   7-0 / 2.13  250 lbs. / 113.4 kg.  $27504630  Cameroon   \n",
              "\n",
              "   draft_year draft_round draft_peak          college  \n",
              "0        2003           1          1              NaN  \n",
              "1        2011           1         15  San Diego State  \n",
              "2        2013           1         15              NaN  \n",
              "3        2007           1          2            Texas  \n",
              "4        2009           1          3    Arizona State  \n",
              "5        2009           1          7         Davidson  \n",
              "6        2012           1          1         Kentucky  \n",
              "7        2010           1         10     Fresno State  \n",
              "8        2012           1          6      Weber State  \n",
              "9        2014           1          3           Kansas  "
            ]
          },
          "metadata": {
            "tags": []
          },
          "execution_count": 6
        }
      ]
    },
    {
      "cell_type": "markdown",
      "metadata": {
        "id": "glV9S_dg6N5v"
      },
      "source": [
        "### Columns of the data set "
      ]
    },
    {
      "cell_type": "code",
      "metadata": {
        "id": "zUpINmqL6N5v",
        "outputId": "735248ed-6c9f-485d-a541-b8bf978c1cb9"
      },
      "source": [
        "df.columns"
      ],
      "execution_count": null,
      "outputs": [
        {
          "output_type": "execute_result",
          "data": {
            "text/plain": [
              "Index(['full_name', 'rating', 'jersey', 'team', 'position', 'b_day', 'height',\n",
              "       'weight', 'salary', 'country', 'draft_year', 'draft_round',\n",
              "       'draft_peak', 'college'],\n",
              "      dtype='object')"
            ]
          },
          "metadata": {
            "tags": []
          },
          "execution_count": 7
        }
      ]
    },
    {
      "cell_type": "markdown",
      "metadata": {
        "id": "bd9yhr996N5w"
      },
      "source": [
        "### Data Pre-Processing\n",
        "\n",
        "- Step 1: Check for missing values\n",
        "- Step 2: Ensure all the attributes are in a correct data type\n",
        "- Step 3: Split the attribute Weight/Height into lbs/cm respectively\n",
        "- Step 4: Derive a new attribute Age from the date of birth attribute\n"
      ]
    },
    {
      "cell_type": "markdown",
      "metadata": {
        "id": "cUaqzsB06N5w"
      },
      "source": [
        "#### Checking the missing values (null)"
      ]
    },
    {
      "cell_type": "code",
      "metadata": {
        "id": "QjQfEW326N5w",
        "outputId": "bc7eafa3-f4af-4748-eba8-8639ef7b82f2"
      },
      "source": [
        "df.isna().sum() # checking total missing values for each attributes "
      ],
      "execution_count": null,
      "outputs": [
        {
          "output_type": "execute_result",
          "data": {
            "text/plain": [
              "full_name       0\n",
              "rating          0\n",
              "jersey          0\n",
              "team           23\n",
              "position        0\n",
              "b_day           0\n",
              "height          0\n",
              "weight          0\n",
              "salary          0\n",
              "country         0\n",
              "draft_year      0\n",
              "draft_round     0\n",
              "draft_peak      0\n",
              "college        66\n",
              "dtype: int64"
            ]
          },
          "metadata": {
            "tags": []
          },
          "execution_count": 8
        }
      ]
    },
    {
      "cell_type": "markdown",
      "metadata": {
        "id": "AY9HmJCq6N5w"
      },
      "source": [
        "#### Checking the records with missing values in the column Team and filling in as 'Team Unknown'"
      ]
    },
    {
      "cell_type": "code",
      "metadata": {
        "id": "fldHJwXs6N5w",
        "outputId": "25b790d5-33b7-4ef5-d9ff-5e51a2d93dd7"
      },
      "source": [
        "df[df['team'].isna()] #to check the players that do no belong to any team"
      ],
      "execution_count": null,
      "outputs": [
        {
          "output_type": "execute_result",
          "data": {
            "text/html": [
              "<div>\n",
              "<style scoped>\n",
              "    .dataframe tbody tr th:only-of-type {\n",
              "        vertical-align: middle;\n",
              "    }\n",
              "\n",
              "    .dataframe tbody tr th {\n",
              "        vertical-align: top;\n",
              "    }\n",
              "\n",
              "    .dataframe thead th {\n",
              "        text-align: right;\n",
              "    }\n",
              "</style>\n",
              "<table border=\"1\" class=\"dataframe\">\n",
              "  <thead>\n",
              "    <tr style=\"text-align: right;\">\n",
              "      <th></th>\n",
              "      <th>full_name</th>\n",
              "      <th>rating</th>\n",
              "      <th>jersey</th>\n",
              "      <th>team</th>\n",
              "      <th>position</th>\n",
              "      <th>b_day</th>\n",
              "      <th>height</th>\n",
              "      <th>weight</th>\n",
              "      <th>salary</th>\n",
              "      <th>country</th>\n",
              "      <th>draft_year</th>\n",
              "      <th>draft_round</th>\n",
              "      <th>draft_peak</th>\n",
              "      <th>college</th>\n",
              "    </tr>\n",
              "  </thead>\n",
              "  <tbody>\n",
              "    <tr>\n",
              "      <th>33</th>\n",
              "      <td>DeMarcus Cousins</td>\n",
              "      <td>86</td>\n",
              "      <td>#0</td>\n",
              "      <td>NaN</td>\n",
              "      <td>C</td>\n",
              "      <td>08/13/90</td>\n",
              "      <td>6-10 / 2.08</td>\n",
              "      <td>270 lbs. / 122.5 kg.</td>\n",
              "      <td>$3500000</td>\n",
              "      <td>USA</td>\n",
              "      <td>2010</td>\n",
              "      <td>1</td>\n",
              "      <td>5</td>\n",
              "      <td>Kentucky</td>\n",
              "    </tr>\n",
              "    <tr>\n",
              "      <th>168</th>\n",
              "      <td>Michael Beasley</td>\n",
              "      <td>76</td>\n",
              "      <td>#0</td>\n",
              "      <td>NaN</td>\n",
              "      <td>F</td>\n",
              "      <td>01/09/89</td>\n",
              "      <td>6-10 / 2.08</td>\n",
              "      <td>235 lbs. / 106.6 kg.</td>\n",
              "      <td>$3500000</td>\n",
              "      <td>USA</td>\n",
              "      <td>2008</td>\n",
              "      <td>1</td>\n",
              "      <td>2</td>\n",
              "      <td>Kansas State</td>\n",
              "    </tr>\n",
              "    <tr>\n",
              "      <th>177</th>\n",
              "      <td>Gerald Green</td>\n",
              "      <td>76</td>\n",
              "      <td>#0</td>\n",
              "      <td>NaN</td>\n",
              "      <td>F-G</td>\n",
              "      <td>01/26/86</td>\n",
              "      <td>6-6 / 1.98</td>\n",
              "      <td>192 lbs. / 87.1 kg.</td>\n",
              "      <td>$2564753</td>\n",
              "      <td>USA</td>\n",
              "      <td>2005</td>\n",
              "      <td>1</td>\n",
              "      <td>18</td>\n",
              "      <td>NaN</td>\n",
              "    </tr>\n",
              "    <tr>\n",
              "      <th>198</th>\n",
              "      <td>Isaiah Thomas</td>\n",
              "      <td>76</td>\n",
              "      <td>#0</td>\n",
              "      <td>NaN</td>\n",
              "      <td>G</td>\n",
              "      <td>02/07/89</td>\n",
              "      <td>5-9 / 1.75</td>\n",
              "      <td>185 lbs. / 83.9 kg.</td>\n",
              "      <td>$2320044</td>\n",
              "      <td>USA</td>\n",
              "      <td>2011</td>\n",
              "      <td>2</td>\n",
              "      <td>60</td>\n",
              "      <td>Washington</td>\n",
              "    </tr>\n",
              "    <tr>\n",
              "      <th>203</th>\n",
              "      <td>Pau Gasol</td>\n",
              "      <td>75</td>\n",
              "      <td>#0</td>\n",
              "      <td>NaN</td>\n",
              "      <td>C</td>\n",
              "      <td>07/06/80</td>\n",
              "      <td>7-1 / 2.16</td>\n",
              "      <td>250 lbs. / 113.4 kg.</td>\n",
              "      <td>$5538540</td>\n",
              "      <td>Spain</td>\n",
              "      <td>2001</td>\n",
              "      <td>1</td>\n",
              "      <td>3</td>\n",
              "      <td>NaN</td>\n",
              "    </tr>\n",
              "    <tr>\n",
              "      <th>237</th>\n",
              "      <td>Allonzo Trier</td>\n",
              "      <td>75</td>\n",
              "      <td>#0</td>\n",
              "      <td>NaN</td>\n",
              "      <td>G-F</td>\n",
              "      <td>01/17/96</td>\n",
              "      <td>6-4 / 1.93</td>\n",
              "      <td>200 lbs. / 90.7 kg.</td>\n",
              "      <td>$3551100</td>\n",
              "      <td>USA</td>\n",
              "      <td>2018</td>\n",
              "      <td>Undrafted</td>\n",
              "      <td>Undrafted</td>\n",
              "      <td>Arizona</td>\n",
              "    </tr>\n",
              "    <tr>\n",
              "      <th>264</th>\n",
              "      <td>Chandler Parsons</td>\n",
              "      <td>74</td>\n",
              "      <td>#0</td>\n",
              "      <td>NaN</td>\n",
              "      <td>F</td>\n",
              "      <td>10/25/88</td>\n",
              "      <td>6-9 / 2.06</td>\n",
              "      <td>200 lbs. / 90.7 kg.</td>\n",
              "      <td>$25102512</td>\n",
              "      <td>USA</td>\n",
              "      <td>2011</td>\n",
              "      <td>2</td>\n",
              "      <td>38</td>\n",
              "      <td>Florida</td>\n",
              "    </tr>\n",
              "    <tr>\n",
              "      <th>266</th>\n",
              "      <td>Ivan Rabb</td>\n",
              "      <td>74</td>\n",
              "      <td>#0</td>\n",
              "      <td>NaN</td>\n",
              "      <td>F-C</td>\n",
              "      <td>02/04/97</td>\n",
              "      <td>6-10 / 2.08</td>\n",
              "      <td>220 lbs. / 99.8 kg.</td>\n",
              "      <td>$451326</td>\n",
              "      <td>USA</td>\n",
              "      <td>2017</td>\n",
              "      <td>2</td>\n",
              "      <td>35</td>\n",
              "      <td>California</td>\n",
              "    </tr>\n",
              "    <tr>\n",
              "      <th>283</th>\n",
              "      <td>Allen Crabbe</td>\n",
              "      <td>73</td>\n",
              "      <td>#0</td>\n",
              "      <td>NaN</td>\n",
              "      <td>G-F</td>\n",
              "      <td>04/09/92</td>\n",
              "      <td>6-5 / 1.96</td>\n",
              "      <td>197 lbs. / 89.4 kg.</td>\n",
              "      <td>$17818456</td>\n",
              "      <td>USA</td>\n",
              "      <td>2013</td>\n",
              "      <td>2</td>\n",
              "      <td>31</td>\n",
              "      <td>California</td>\n",
              "    </tr>\n",
              "    <tr>\n",
              "      <th>294</th>\n",
              "      <td>CJ Miles</td>\n",
              "      <td>73</td>\n",
              "      <td>#0</td>\n",
              "      <td>NaN</td>\n",
              "      <td>G-F</td>\n",
              "      <td>03/18/87</td>\n",
              "      <td>6-6 / 1.98</td>\n",
              "      <td>232 lbs. / 105.2 kg.</td>\n",
              "      <td>$8730158</td>\n",
              "      <td>USA</td>\n",
              "      <td>2005</td>\n",
              "      <td>2</td>\n",
              "      <td>34</td>\n",
              "      <td>NaN</td>\n",
              "    </tr>\n",
              "    <tr>\n",
              "      <th>301</th>\n",
              "      <td>Jonathon Simmons</td>\n",
              "      <td>73</td>\n",
              "      <td>#0</td>\n",
              "      <td>NaN</td>\n",
              "      <td>G-F</td>\n",
              "      <td>09/14/89</td>\n",
              "      <td>6-6 / 1.98</td>\n",
              "      <td>195 lbs. / 88.5 kg.</td>\n",
              "      <td>$1000000</td>\n",
              "      <td>USA</td>\n",
              "      <td>2012</td>\n",
              "      <td>Undrafted</td>\n",
              "      <td>Undrafted</td>\n",
              "      <td>Houston</td>\n",
              "    </tr>\n",
              "    <tr>\n",
              "      <th>317</th>\n",
              "      <td>Antonio Blakeney</td>\n",
              "      <td>72</td>\n",
              "      <td>#0</td>\n",
              "      <td>NaN</td>\n",
              "      <td>G-F</td>\n",
              "      <td>10/04/96</td>\n",
              "      <td>6-4 / 1.93</td>\n",
              "      <td>197 lbs. / 89.4 kg.</td>\n",
              "      <td>$1488231</td>\n",
              "      <td>USA</td>\n",
              "      <td>2017</td>\n",
              "      <td>Undrafted</td>\n",
              "      <td>Undrafted</td>\n",
              "      <td>LSU</td>\n",
              "    </tr>\n",
              "    <tr>\n",
              "      <th>323</th>\n",
              "      <td>Tim Frazier</td>\n",
              "      <td>72</td>\n",
              "      <td>#0</td>\n",
              "      <td>NaN</td>\n",
              "      <td>G</td>\n",
              "      <td>11/01/90</td>\n",
              "      <td>6-0 / 1.83</td>\n",
              "      <td>170 lbs. / 77.1 kg.</td>\n",
              "      <td>$1620564</td>\n",
              "      <td>USA</td>\n",
              "      <td>2014</td>\n",
              "      <td>Undrafted</td>\n",
              "      <td>Undrafted</td>\n",
              "      <td>Penn State</td>\n",
              "    </tr>\n",
              "    <tr>\n",
              "      <th>353</th>\n",
              "      <td>Chuma Okeke</td>\n",
              "      <td>72</td>\n",
              "      <td>#3</td>\n",
              "      <td>NaN</td>\n",
              "      <td>F-C</td>\n",
              "      <td>08/18/98</td>\n",
              "      <td>6-8 / 2.03</td>\n",
              "      <td>230 lbs. / 104 kg.</td>\n",
              "      <td>$2773550</td>\n",
              "      <td>USA</td>\n",
              "      <td>2019</td>\n",
              "      <td>1</td>\n",
              "      <td>16</td>\n",
              "      <td>Auburn</td>\n",
              "    </tr>\n",
              "    <tr>\n",
              "      <th>362</th>\n",
              "      <td>Deyonta Davis</td>\n",
              "      <td>71</td>\n",
              "      <td>#0</td>\n",
              "      <td>NaN</td>\n",
              "      <td>F-C</td>\n",
              "      <td>12/02/96</td>\n",
              "      <td>6-10 / 2.08</td>\n",
              "      <td>240 lbs. / 108.9 kg.</td>\n",
              "      <td>$250000</td>\n",
              "      <td>USA</td>\n",
              "      <td>2016</td>\n",
              "      <td>2</td>\n",
              "      <td>31</td>\n",
              "      <td>Michigan State</td>\n",
              "    </tr>\n",
              "    <tr>\n",
              "      <th>394</th>\n",
              "      <td>Tyler Lydon</td>\n",
              "      <td>70</td>\n",
              "      <td>#0</td>\n",
              "      <td>NaN</td>\n",
              "      <td>F-C</td>\n",
              "      <td>04/09/96</td>\n",
              "      <td>6-9 / 2.06</td>\n",
              "      <td>220 lbs. / 99.8 kg.</td>\n",
              "      <td>$50000</td>\n",
              "      <td>USA</td>\n",
              "      <td>2017</td>\n",
              "      <td>1</td>\n",
              "      <td>24</td>\n",
              "      <td>Syracuse</td>\n",
              "    </tr>\n",
              "    <tr>\n",
              "      <th>398</th>\n",
              "      <td>Miles Plumlee</td>\n",
              "      <td>70</td>\n",
              "      <td>#0</td>\n",
              "      <td>NaN</td>\n",
              "      <td>F-C</td>\n",
              "      <td>09/01/88</td>\n",
              "      <td>6-11 / 2.11</td>\n",
              "      <td>255 lbs. / 115.7 kg.</td>\n",
              "      <td>$12500000</td>\n",
              "      <td>USA</td>\n",
              "      <td>2012</td>\n",
              "      <td>1</td>\n",
              "      <td>26</td>\n",
              "      <td>Duke</td>\n",
              "    </tr>\n",
              "    <tr>\n",
              "      <th>401</th>\n",
              "      <td>Jemerrio Jones</td>\n",
              "      <td>70</td>\n",
              "      <td>#0</td>\n",
              "      <td>NaN</td>\n",
              "      <td>F</td>\n",
              "      <td>04/09/95</td>\n",
              "      <td>6-5 / 1.96</td>\n",
              "      <td>201 lbs. / 91.2 kg.</td>\n",
              "      <td>$195077</td>\n",
              "      <td>USA</td>\n",
              "      <td>2018</td>\n",
              "      <td>Undrafted</td>\n",
              "      <td>Undrafted</td>\n",
              "      <td>New Mexico State</td>\n",
              "    </tr>\n",
              "    <tr>\n",
              "      <th>404</th>\n",
              "      <td>Yante Maten</td>\n",
              "      <td>70</td>\n",
              "      <td>#0</td>\n",
              "      <td>NaN</td>\n",
              "      <td>F-C</td>\n",
              "      <td>08/14/96</td>\n",
              "      <td>6-8 / 2.03</td>\n",
              "      <td>240 lbs. / 108.9 kg.</td>\n",
              "      <td>$100000</td>\n",
              "      <td>USA</td>\n",
              "      <td>2018</td>\n",
              "      <td>Undrafted</td>\n",
              "      <td>Undrafted</td>\n",
              "      <td>Georgia</td>\n",
              "    </tr>\n",
              "    <tr>\n",
              "      <th>410</th>\n",
              "      <td>Henry Ellenson</td>\n",
              "      <td>69</td>\n",
              "      <td>#0</td>\n",
              "      <td>NaN</td>\n",
              "      <td>F-C</td>\n",
              "      <td>01/13/97</td>\n",
              "      <td>6-10 / 2.08</td>\n",
              "      <td>242 lbs. / 109.8 kg.</td>\n",
              "      <td>$79568</td>\n",
              "      <td>USA</td>\n",
              "      <td>2016</td>\n",
              "      <td>1</td>\n",
              "      <td>18</td>\n",
              "      <td>Marquette</td>\n",
              "    </tr>\n",
              "    <tr>\n",
              "      <th>412</th>\n",
              "      <td>Amile Jefferson</td>\n",
              "      <td>69</td>\n",
              "      <td>#0</td>\n",
              "      <td>NaN</td>\n",
              "      <td>F-C</td>\n",
              "      <td>05/07/93</td>\n",
              "      <td>6-9 / 2.06</td>\n",
              "      <td>224 lbs. / 101.6 kg.</td>\n",
              "      <td>$1529007</td>\n",
              "      <td>USA</td>\n",
              "      <td>2017</td>\n",
              "      <td>Undrafted</td>\n",
              "      <td>Undrafted</td>\n",
              "      <td>Duke</td>\n",
              "    </tr>\n",
              "    <tr>\n",
              "      <th>418</th>\n",
              "      <td>Tyrone Wallace</td>\n",
              "      <td>69</td>\n",
              "      <td>#0</td>\n",
              "      <td>NaN</td>\n",
              "      <td>G-F</td>\n",
              "      <td>06/10/94</td>\n",
              "      <td>6-5 / 1.96</td>\n",
              "      <td>200 lbs. / 90.7 kg.</td>\n",
              "      <td>$502491</td>\n",
              "      <td>USA</td>\n",
              "      <td>2016</td>\n",
              "      <td>2</td>\n",
              "      <td>60</td>\n",
              "      <td>California</td>\n",
              "    </tr>\n",
              "    <tr>\n",
              "      <th>422</th>\n",
              "      <td>Isaiah Hartenstein</td>\n",
              "      <td>68</td>\n",
              "      <td>#0</td>\n",
              "      <td>NaN</td>\n",
              "      <td>F-C</td>\n",
              "      <td>05/05/98</td>\n",
              "      <td>7-0 / 2.13</td>\n",
              "      <td>250 lbs. / 113.4 kg.</td>\n",
              "      <td>$1416852</td>\n",
              "      <td>Germany</td>\n",
              "      <td>2017</td>\n",
              "      <td>2</td>\n",
              "      <td>43</td>\n",
              "      <td>NaN</td>\n",
              "    </tr>\n",
              "  </tbody>\n",
              "</table>\n",
              "</div>"
            ],
            "text/plain": [
              "              full_name  rating jersey team position     b_day       height  \\\n",
              "33     DeMarcus Cousins      86     #0  NaN        C  08/13/90  6-10 / 2.08   \n",
              "168     Michael Beasley      76     #0  NaN        F  01/09/89  6-10 / 2.08   \n",
              "177        Gerald Green      76     #0  NaN      F-G  01/26/86   6-6 / 1.98   \n",
              "198       Isaiah Thomas      76     #0  NaN        G  02/07/89   5-9 / 1.75   \n",
              "203           Pau Gasol      75     #0  NaN        C  07/06/80   7-1 / 2.16   \n",
              "237       Allonzo Trier      75     #0  NaN      G-F  01/17/96   6-4 / 1.93   \n",
              "264    Chandler Parsons      74     #0  NaN        F  10/25/88   6-9 / 2.06   \n",
              "266           Ivan Rabb      74     #0  NaN      F-C  02/04/97  6-10 / 2.08   \n",
              "283        Allen Crabbe      73     #0  NaN      G-F  04/09/92   6-5 / 1.96   \n",
              "294            CJ Miles      73     #0  NaN      G-F  03/18/87   6-6 / 1.98   \n",
              "301    Jonathon Simmons      73     #0  NaN      G-F  09/14/89   6-6 / 1.98   \n",
              "317    Antonio Blakeney      72     #0  NaN      G-F  10/04/96   6-4 / 1.93   \n",
              "323         Tim Frazier      72     #0  NaN        G  11/01/90   6-0 / 1.83   \n",
              "353         Chuma Okeke      72     #3  NaN      F-C  08/18/98   6-8 / 2.03   \n",
              "362       Deyonta Davis      71     #0  NaN      F-C  12/02/96  6-10 / 2.08   \n",
              "394         Tyler Lydon      70     #0  NaN      F-C  04/09/96   6-9 / 2.06   \n",
              "398       Miles Plumlee      70     #0  NaN      F-C  09/01/88  6-11 / 2.11   \n",
              "401      Jemerrio Jones      70     #0  NaN        F  04/09/95   6-5 / 1.96   \n",
              "404         Yante Maten      70     #0  NaN      F-C  08/14/96   6-8 / 2.03   \n",
              "410      Henry Ellenson      69     #0  NaN      F-C  01/13/97  6-10 / 2.08   \n",
              "412     Amile Jefferson      69     #0  NaN      F-C  05/07/93   6-9 / 2.06   \n",
              "418      Tyrone Wallace      69     #0  NaN      G-F  06/10/94   6-5 / 1.96   \n",
              "422  Isaiah Hartenstein      68     #0  NaN      F-C  05/05/98   7-0 / 2.13   \n",
              "\n",
              "                   weight     salary  country  draft_year draft_round  \\\n",
              "33   270 lbs. / 122.5 kg.   $3500000      USA        2010           1   \n",
              "168  235 lbs. / 106.6 kg.   $3500000      USA        2008           1   \n",
              "177   192 lbs. / 87.1 kg.   $2564753      USA        2005           1   \n",
              "198   185 lbs. / 83.9 kg.   $2320044      USA        2011           2   \n",
              "203  250 lbs. / 113.4 kg.   $5538540    Spain        2001           1   \n",
              "237   200 lbs. / 90.7 kg.   $3551100      USA        2018   Undrafted   \n",
              "264   200 lbs. / 90.7 kg.  $25102512      USA        2011           2   \n",
              "266   220 lbs. / 99.8 kg.    $451326      USA        2017           2   \n",
              "283   197 lbs. / 89.4 kg.  $17818456      USA        2013           2   \n",
              "294  232 lbs. / 105.2 kg.   $8730158      USA        2005           2   \n",
              "301   195 lbs. / 88.5 kg.   $1000000      USA        2012   Undrafted   \n",
              "317   197 lbs. / 89.4 kg.   $1488231      USA        2017   Undrafted   \n",
              "323   170 lbs. / 77.1 kg.   $1620564      USA        2014   Undrafted   \n",
              "353    230 lbs. / 104 kg.   $2773550      USA        2019           1   \n",
              "362  240 lbs. / 108.9 kg.    $250000      USA        2016           2   \n",
              "394   220 lbs. / 99.8 kg.     $50000      USA        2017           1   \n",
              "398  255 lbs. / 115.7 kg.  $12500000      USA        2012           1   \n",
              "401   201 lbs. / 91.2 kg.    $195077      USA        2018   Undrafted   \n",
              "404  240 lbs. / 108.9 kg.    $100000      USA        2018   Undrafted   \n",
              "410  242 lbs. / 109.8 kg.     $79568      USA        2016           1   \n",
              "412  224 lbs. / 101.6 kg.   $1529007      USA        2017   Undrafted   \n",
              "418   200 lbs. / 90.7 kg.    $502491      USA        2016           2   \n",
              "422  250 lbs. / 113.4 kg.   $1416852  Germany        2017           2   \n",
              "\n",
              "    draft_peak           college  \n",
              "33           5          Kentucky  \n",
              "168          2      Kansas State  \n",
              "177         18               NaN  \n",
              "198         60        Washington  \n",
              "203          3               NaN  \n",
              "237  Undrafted           Arizona  \n",
              "264         38           Florida  \n",
              "266         35        California  \n",
              "283         31        California  \n",
              "294         34               NaN  \n",
              "301  Undrafted           Houston  \n",
              "317  Undrafted               LSU  \n",
              "323  Undrafted        Penn State  \n",
              "353         16            Auburn  \n",
              "362         31    Michigan State  \n",
              "394         24          Syracuse  \n",
              "398         26              Duke  \n",
              "401  Undrafted  New Mexico State  \n",
              "404  Undrafted           Georgia  \n",
              "410         18         Marquette  \n",
              "412  Undrafted              Duke  \n",
              "418         60        California  \n",
              "422         43               NaN  "
            ]
          },
          "metadata": {
            "tags": []
          },
          "execution_count": 9
        }
      ]
    },
    {
      "cell_type": "code",
      "metadata": {
        "id": "eUJaih_16N5x"
      },
      "source": [
        "df['team'] = df['team'].fillna('Team Unknown') # filling in the missing values with 'Team Unknown'"
      ],
      "execution_count": null,
      "outputs": []
    },
    {
      "cell_type": "markdown",
      "metadata": {
        "id": "uPiXrXvj6N5x"
      },
      "source": [
        "#### Checking the missing values in column College and filling in with 'College Unknown'"
      ]
    },
    {
      "cell_type": "code",
      "metadata": {
        "id": "b7AlQJXk6N5x",
        "outputId": "50c6e678-a0a0-4bb5-a309-256a7826ab77"
      },
      "source": [
        "df[df['college'].isna()] #to check the players that do no belong to any college"
      ],
      "execution_count": null,
      "outputs": [
        {
          "output_type": "execute_result",
          "data": {
            "text/html": [
              "<div>\n",
              "<style scoped>\n",
              "    .dataframe tbody tr th:only-of-type {\n",
              "        vertical-align: middle;\n",
              "    }\n",
              "\n",
              "    .dataframe tbody tr th {\n",
              "        vertical-align: top;\n",
              "    }\n",
              "\n",
              "    .dataframe thead th {\n",
              "        text-align: right;\n",
              "    }\n",
              "</style>\n",
              "<table border=\"1\" class=\"dataframe\">\n",
              "  <thead>\n",
              "    <tr style=\"text-align: right;\">\n",
              "      <th></th>\n",
              "      <th>full_name</th>\n",
              "      <th>rating</th>\n",
              "      <th>jersey</th>\n",
              "      <th>team</th>\n",
              "      <th>position</th>\n",
              "      <th>b_day</th>\n",
              "      <th>height</th>\n",
              "      <th>weight</th>\n",
              "      <th>salary</th>\n",
              "      <th>country</th>\n",
              "      <th>draft_year</th>\n",
              "      <th>draft_round</th>\n",
              "      <th>draft_peak</th>\n",
              "      <th>college</th>\n",
              "    </tr>\n",
              "  </thead>\n",
              "  <tbody>\n",
              "    <tr>\n",
              "      <th>0</th>\n",
              "      <td>LeBron James</td>\n",
              "      <td>97</td>\n",
              "      <td>#23</td>\n",
              "      <td>Los Angeles Lakers</td>\n",
              "      <td>F</td>\n",
              "      <td>12/30/84</td>\n",
              "      <td>6-9 / 2.06</td>\n",
              "      <td>250 lbs. / 113.4 kg.</td>\n",
              "      <td>$37436858</td>\n",
              "      <td>USA</td>\n",
              "      <td>2003</td>\n",
              "      <td>1</td>\n",
              "      <td>1</td>\n",
              "      <td>NaN</td>\n",
              "    </tr>\n",
              "    <tr>\n",
              "      <th>2</th>\n",
              "      <td>Giannis Antetokounmpo</td>\n",
              "      <td>96</td>\n",
              "      <td>#34</td>\n",
              "      <td>Milwaukee Bucks</td>\n",
              "      <td>F-G</td>\n",
              "      <td>12/06/94</td>\n",
              "      <td>6-11 / 2.11</td>\n",
              "      <td>242 lbs. / 109.8 kg.</td>\n",
              "      <td>$25842697</td>\n",
              "      <td>Greece</td>\n",
              "      <td>2013</td>\n",
              "      <td>1</td>\n",
              "      <td>15</td>\n",
              "      <td>NaN</td>\n",
              "    </tr>\n",
              "    <tr>\n",
              "      <th>11</th>\n",
              "      <td>Nikola Jokic</td>\n",
              "      <td>90</td>\n",
              "      <td>#15</td>\n",
              "      <td>Denver Nuggets</td>\n",
              "      <td>C</td>\n",
              "      <td>02/19/95</td>\n",
              "      <td>7-0 / 2.13</td>\n",
              "      <td>253 lbs. / 114.8 kg.</td>\n",
              "      <td>$27504630</td>\n",
              "      <td>Serbia</td>\n",
              "      <td>2014</td>\n",
              "      <td>2</td>\n",
              "      <td>41</td>\n",
              "      <td>NaN</td>\n",
              "    </tr>\n",
              "    <tr>\n",
              "      <th>16</th>\n",
              "      <td>Rudy Gobert</td>\n",
              "      <td>88</td>\n",
              "      <td>#27</td>\n",
              "      <td>Utah Jazz</td>\n",
              "      <td>C</td>\n",
              "      <td>06/26/92</td>\n",
              "      <td>7-1 / 2.16</td>\n",
              "      <td>238 lbs. / 108 kg.</td>\n",
              "      <td>$25258427</td>\n",
              "      <td>France</td>\n",
              "      <td>2013</td>\n",
              "      <td>1</td>\n",
              "      <td>27</td>\n",
              "      <td>NaN</td>\n",
              "    </tr>\n",
              "    <tr>\n",
              "      <th>20</th>\n",
              "      <td>Luka Doncic</td>\n",
              "      <td>87</td>\n",
              "      <td>#77</td>\n",
              "      <td>Dallas Mavericks</td>\n",
              "      <td>G-F</td>\n",
              "      <td>02/28/99</td>\n",
              "      <td>6-7 / 2.01</td>\n",
              "      <td>227 lbs. / 103 kg.</td>\n",
              "      <td>$7683360</td>\n",
              "      <td>Slovenia</td>\n",
              "      <td>2018</td>\n",
              "      <td>1</td>\n",
              "      <td>3</td>\n",
              "      <td>NaN</td>\n",
              "    </tr>\n",
              "    <tr>\n",
              "      <th>...</th>\n",
              "      <td>...</td>\n",
              "      <td>...</td>\n",
              "      <td>...</td>\n",
              "      <td>...</td>\n",
              "      <td>...</td>\n",
              "      <td>...</td>\n",
              "      <td>...</td>\n",
              "      <td>...</td>\n",
              "      <td>...</td>\n",
              "      <td>...</td>\n",
              "      <td>...</td>\n",
              "      <td>...</td>\n",
              "      <td>...</td>\n",
              "      <td>...</td>\n",
              "    </tr>\n",
              "    <tr>\n",
              "      <th>387</th>\n",
              "      <td>Darius Bazley</td>\n",
              "      <td>70</td>\n",
              "      <td>#7</td>\n",
              "      <td>Oklahoma City Thunder</td>\n",
              "      <td>F</td>\n",
              "      <td>06/12/00</td>\n",
              "      <td>6-8 / 2.03</td>\n",
              "      <td>200 lbs. / 90.7 kg.</td>\n",
              "      <td>$2284800</td>\n",
              "      <td>USA</td>\n",
              "      <td>2019</td>\n",
              "      <td>1</td>\n",
              "      <td>23</td>\n",
              "      <td>NaN</td>\n",
              "    </tr>\n",
              "    <tr>\n",
              "      <th>405</th>\n",
              "      <td>Thanasis Antetokounmpo</td>\n",
              "      <td>70</td>\n",
              "      <td>#43</td>\n",
              "      <td>Milwaukee Bucks</td>\n",
              "      <td>F</td>\n",
              "      <td>07/18/92</td>\n",
              "      <td>6-6 / 1.98</td>\n",
              "      <td>215 lbs. / 97.5 kg.</td>\n",
              "      <td>$1445697</td>\n",
              "      <td>Greece</td>\n",
              "      <td>2014</td>\n",
              "      <td>2</td>\n",
              "      <td>51</td>\n",
              "      <td>NaN</td>\n",
              "    </tr>\n",
              "    <tr>\n",
              "      <th>421</th>\n",
              "      <td>Isaac Bonga</td>\n",
              "      <td>68</td>\n",
              "      <td>#17</td>\n",
              "      <td>Washington Wizards</td>\n",
              "      <td>G</td>\n",
              "      <td>11/08/99</td>\n",
              "      <td>6-8 / 2.03</td>\n",
              "      <td>200 lbs. / 90.7 kg.</td>\n",
              "      <td>$1416852</td>\n",
              "      <td>Germany</td>\n",
              "      <td>2018</td>\n",
              "      <td>2</td>\n",
              "      <td>39</td>\n",
              "      <td>NaN</td>\n",
              "    </tr>\n",
              "    <tr>\n",
              "      <th>422</th>\n",
              "      <td>Isaiah Hartenstein</td>\n",
              "      <td>68</td>\n",
              "      <td>#0</td>\n",
              "      <td>Team Unknown</td>\n",
              "      <td>F-C</td>\n",
              "      <td>05/05/98</td>\n",
              "      <td>7-0 / 2.13</td>\n",
              "      <td>250 lbs. / 113.4 kg.</td>\n",
              "      <td>$1416852</td>\n",
              "      <td>Germany</td>\n",
              "      <td>2017</td>\n",
              "      <td>2</td>\n",
              "      <td>43</td>\n",
              "      <td>NaN</td>\n",
              "    </tr>\n",
              "    <tr>\n",
              "      <th>427</th>\n",
              "      <td>Jalen Lecque</td>\n",
              "      <td>68</td>\n",
              "      <td>#0</td>\n",
              "      <td>Phoenix Suns</td>\n",
              "      <td>G</td>\n",
              "      <td>06/13/00</td>\n",
              "      <td>6-3 / 1.91</td>\n",
              "      <td>190 lbs. / 86.2 kg.</td>\n",
              "      <td>$898310</td>\n",
              "      <td>USA</td>\n",
              "      <td>2019</td>\n",
              "      <td>Undrafted</td>\n",
              "      <td>Undrafted</td>\n",
              "      <td>NaN</td>\n",
              "    </tr>\n",
              "  </tbody>\n",
              "</table>\n",
              "<p>66 rows × 14 columns</p>\n",
              "</div>"
            ],
            "text/plain": [
              "                  full_name  rating jersey                   team position  \\\n",
              "0              LeBron James      97    #23     Los Angeles Lakers        F   \n",
              "2     Giannis Antetokounmpo      96    #34        Milwaukee Bucks      F-G   \n",
              "11             Nikola Jokic      90    #15         Denver Nuggets        C   \n",
              "16              Rudy Gobert      88    #27              Utah Jazz        C   \n",
              "20              Luka Doncic      87    #77       Dallas Mavericks      G-F   \n",
              "..                      ...     ...    ...                    ...      ...   \n",
              "387           Darius Bazley      70     #7  Oklahoma City Thunder        F   \n",
              "405  Thanasis Antetokounmpo      70    #43        Milwaukee Bucks        F   \n",
              "421             Isaac Bonga      68    #17     Washington Wizards        G   \n",
              "422      Isaiah Hartenstein      68     #0           Team Unknown      F-C   \n",
              "427            Jalen Lecque      68     #0           Phoenix Suns        G   \n",
              "\n",
              "        b_day       height                weight     salary   country  \\\n",
              "0    12/30/84   6-9 / 2.06  250 lbs. / 113.4 kg.  $37436858       USA   \n",
              "2    12/06/94  6-11 / 2.11  242 lbs. / 109.8 kg.  $25842697    Greece   \n",
              "11   02/19/95   7-0 / 2.13  253 lbs. / 114.8 kg.  $27504630    Serbia   \n",
              "16   06/26/92   7-1 / 2.16    238 lbs. / 108 kg.  $25258427    France   \n",
              "20   02/28/99   6-7 / 2.01    227 lbs. / 103 kg.   $7683360  Slovenia   \n",
              "..        ...          ...                   ...        ...       ...   \n",
              "387  06/12/00   6-8 / 2.03   200 lbs. / 90.7 kg.   $2284800       USA   \n",
              "405  07/18/92   6-6 / 1.98   215 lbs. / 97.5 kg.   $1445697    Greece   \n",
              "421  11/08/99   6-8 / 2.03   200 lbs. / 90.7 kg.   $1416852   Germany   \n",
              "422  05/05/98   7-0 / 2.13  250 lbs. / 113.4 kg.   $1416852   Germany   \n",
              "427  06/13/00   6-3 / 1.91   190 lbs. / 86.2 kg.    $898310       USA   \n",
              "\n",
              "     draft_year draft_round draft_peak college  \n",
              "0          2003           1          1     NaN  \n",
              "2          2013           1         15     NaN  \n",
              "11         2014           2         41     NaN  \n",
              "16         2013           1         27     NaN  \n",
              "20         2018           1          3     NaN  \n",
              "..          ...         ...        ...     ...  \n",
              "387        2019           1         23     NaN  \n",
              "405        2014           2         51     NaN  \n",
              "421        2018           2         39     NaN  \n",
              "422        2017           2         43     NaN  \n",
              "427        2019   Undrafted  Undrafted     NaN  \n",
              "\n",
              "[66 rows x 14 columns]"
            ]
          },
          "metadata": {
            "tags": []
          },
          "execution_count": 11
        }
      ]
    },
    {
      "cell_type": "code",
      "metadata": {
        "id": "S07YlsGN6N5x"
      },
      "source": [
        "df['college'] = df['college'].fillna('College Unknown') # filling in the missing values with 'College Unknown'\n"
      ],
      "execution_count": null,
      "outputs": []
    },
    {
      "cell_type": "code",
      "metadata": {
        "id": "4XHyfWX36N5y",
        "outputId": "8dc2f27e-696e-4891-cbd5-b3135c5a6abb"
      },
      "source": [
        "df.isna().sum()  # checking to ensure to null values are handled\n"
      ],
      "execution_count": null,
      "outputs": [
        {
          "output_type": "execute_result",
          "data": {
            "text/plain": [
              "full_name      0\n",
              "rating         0\n",
              "jersey         0\n",
              "team           0\n",
              "position       0\n",
              "b_day          0\n",
              "height         0\n",
              "weight         0\n",
              "salary         0\n",
              "country        0\n",
              "draft_year     0\n",
              "draft_round    0\n",
              "draft_peak     0\n",
              "college        0\n",
              "dtype: int64"
            ]
          },
          "metadata": {
            "tags": []
          },
          "execution_count": 13
        }
      ]
    },
    {
      "cell_type": "markdown",
      "metadata": {
        "id": "OpcaPwu46N5y"
      },
      "source": [
        "### Check the data types"
      ]
    },
    {
      "cell_type": "code",
      "metadata": {
        "id": "PYQvCD-p6N5y",
        "outputId": "bb704d84-81f5-4d8e-91ce-1a78f67970bc"
      },
      "source": [
        "df.dtypes #to see the data types of the attributes\n"
      ],
      "execution_count": null,
      "outputs": [
        {
          "output_type": "execute_result",
          "data": {
            "text/plain": [
              "full_name      object\n",
              "rating          int64\n",
              "jersey         object\n",
              "team           object\n",
              "position       object\n",
              "b_day          object\n",
              "height         object\n",
              "weight         object\n",
              "salary         object\n",
              "country        object\n",
              "draft_year      int64\n",
              "draft_round    object\n",
              "draft_peak     object\n",
              "college        object\n",
              "dtype: object"
            ]
          },
          "metadata": {
            "tags": []
          },
          "execution_count": 14
        }
      ]
    },
    {
      "cell_type": "markdown",
      "metadata": {
        "id": "X-Gm4jXW6N5y"
      },
      "source": [
        "#### Convert Salary data type to int64(integer)"
      ]
    },
    {
      "cell_type": "code",
      "metadata": {
        "id": "5Eieneky6N5y"
      },
      "source": [
        "df['salary'] = df['salary'].str.replace('$', '') #to replace the '$' from salary\n",
        "df['salary'] = df['salary'].str.replace(',','')\n",
        "df['salary'] = df['salary'].astype(np.int64) #to change the data type\n"
      ],
      "execution_count": null,
      "outputs": []
    },
    {
      "cell_type": "markdown",
      "metadata": {
        "id": "05UbxLau6N5z"
      },
      "source": [
        "#### Split the column Weight, separated by measurements i.e. lbs/kgs, and keep the lbs values only"
      ]
    },
    {
      "cell_type": "code",
      "metadata": {
        "id": "49aL905B6N5z"
      },
      "source": [
        "weight = df['weight'].str.split('/',expand=True) #to split the value\n",
        "weight = weight.drop([1], axis=1) # droping the kg values\n",
        "weight.columns = ['weight_lbs'] #naming the attribute\n",
        "df = pd.concat([df, weight], axis=1) #to join\n",
        "df = df.drop(['weight'], axis=1) #dropping the original attribute\n",
        "df['weight_lbs'] = df['weight_lbs'].str.replace('lbs.', '') #to replace the 'lbs' from the value\n",
        "df['weight_lbs'] = df['weight_lbs'].astype(np.int64) #to change the data type\n"
      ],
      "execution_count": null,
      "outputs": []
    },
    {
      "cell_type": "markdown",
      "metadata": {
        "id": "xSVe6gzj6N5z"
      },
      "source": [
        "#### Split the column Height, separated by measurements i.e. foot/meter, and changes the values to cm"
      ]
    },
    {
      "cell_type": "code",
      "metadata": {
        "id": "2fYU3ZaT6N50"
      },
      "source": [
        "height = df['height'].str.split('/',expand=True) #to split the value\n",
        "height = height.drop([0], axis=1) #to drop the height in ft values\n",
        "height.columns = ['height_cm'] #naming the attribute\n",
        "height['height_cm'] = height['height_cm'].astype(np.float64) #to change the data type\n",
        "height['height_cm'] = height*100 #to convert m to cm\n",
        "df = pd.concat([df, height], axis=1) #to join\n",
        "df = df.drop(['height'], axis=1) # to drop the original height value from the dataframe\n"
      ],
      "execution_count": null,
      "outputs": []
    },
    {
      "cell_type": "code",
      "metadata": {
        "id": "dg2H959g6N50",
        "outputId": "9e532abf-08d9-49b3-9513-af81537bcee9"
      },
      "source": [
        "df.head() # we can now see weight in lbs and height in cm in out dataframe.\n"
      ],
      "execution_count": null,
      "outputs": [
        {
          "output_type": "execute_result",
          "data": {
            "text/html": [
              "<div>\n",
              "<style scoped>\n",
              "    .dataframe tbody tr th:only-of-type {\n",
              "        vertical-align: middle;\n",
              "    }\n",
              "\n",
              "    .dataframe tbody tr th {\n",
              "        vertical-align: top;\n",
              "    }\n",
              "\n",
              "    .dataframe thead th {\n",
              "        text-align: right;\n",
              "    }\n",
              "</style>\n",
              "<table border=\"1\" class=\"dataframe\">\n",
              "  <thead>\n",
              "    <tr style=\"text-align: right;\">\n",
              "      <th></th>\n",
              "      <th>full_name</th>\n",
              "      <th>rating</th>\n",
              "      <th>jersey</th>\n",
              "      <th>team</th>\n",
              "      <th>position</th>\n",
              "      <th>b_day</th>\n",
              "      <th>salary</th>\n",
              "      <th>country</th>\n",
              "      <th>draft_year</th>\n",
              "      <th>draft_round</th>\n",
              "      <th>draft_peak</th>\n",
              "      <th>college</th>\n",
              "      <th>weight_lbs</th>\n",
              "      <th>height_cm</th>\n",
              "    </tr>\n",
              "  </thead>\n",
              "  <tbody>\n",
              "    <tr>\n",
              "      <th>0</th>\n",
              "      <td>LeBron James</td>\n",
              "      <td>97</td>\n",
              "      <td>#23</td>\n",
              "      <td>Los Angeles Lakers</td>\n",
              "      <td>F</td>\n",
              "      <td>12/30/84</td>\n",
              "      <td>37436858</td>\n",
              "      <td>USA</td>\n",
              "      <td>2003</td>\n",
              "      <td>1</td>\n",
              "      <td>1</td>\n",
              "      <td>College Unknown</td>\n",
              "      <td>250</td>\n",
              "      <td>206.0</td>\n",
              "    </tr>\n",
              "    <tr>\n",
              "      <th>1</th>\n",
              "      <td>Kawhi Leonard</td>\n",
              "      <td>97</td>\n",
              "      <td>#2</td>\n",
              "      <td>Los Angeles Clippers</td>\n",
              "      <td>F</td>\n",
              "      <td>06/29/91</td>\n",
              "      <td>32742000</td>\n",
              "      <td>USA</td>\n",
              "      <td>2011</td>\n",
              "      <td>1</td>\n",
              "      <td>15</td>\n",
              "      <td>San Diego State</td>\n",
              "      <td>225</td>\n",
              "      <td>201.0</td>\n",
              "    </tr>\n",
              "    <tr>\n",
              "      <th>2</th>\n",
              "      <td>Giannis Antetokounmpo</td>\n",
              "      <td>96</td>\n",
              "      <td>#34</td>\n",
              "      <td>Milwaukee Bucks</td>\n",
              "      <td>F-G</td>\n",
              "      <td>12/06/94</td>\n",
              "      <td>25842697</td>\n",
              "      <td>Greece</td>\n",
              "      <td>2013</td>\n",
              "      <td>1</td>\n",
              "      <td>15</td>\n",
              "      <td>College Unknown</td>\n",
              "      <td>242</td>\n",
              "      <td>211.0</td>\n",
              "    </tr>\n",
              "    <tr>\n",
              "      <th>3</th>\n",
              "      <td>Kevin Durant</td>\n",
              "      <td>96</td>\n",
              "      <td>#7</td>\n",
              "      <td>Brooklyn Nets</td>\n",
              "      <td>F</td>\n",
              "      <td>09/29/88</td>\n",
              "      <td>37199000</td>\n",
              "      <td>USA</td>\n",
              "      <td>2007</td>\n",
              "      <td>1</td>\n",
              "      <td>2</td>\n",
              "      <td>Texas</td>\n",
              "      <td>230</td>\n",
              "      <td>208.0</td>\n",
              "    </tr>\n",
              "    <tr>\n",
              "      <th>4</th>\n",
              "      <td>James Harden</td>\n",
              "      <td>96</td>\n",
              "      <td>#13</td>\n",
              "      <td>Houston Rockets</td>\n",
              "      <td>G</td>\n",
              "      <td>08/26/89</td>\n",
              "      <td>38199000</td>\n",
              "      <td>USA</td>\n",
              "      <td>2009</td>\n",
              "      <td>1</td>\n",
              "      <td>3</td>\n",
              "      <td>Arizona State</td>\n",
              "      <td>220</td>\n",
              "      <td>196.0</td>\n",
              "    </tr>\n",
              "  </tbody>\n",
              "</table>\n",
              "</div>"
            ],
            "text/plain": [
              "               full_name  rating jersey                  team position  \\\n",
              "0           LeBron James      97    #23    Los Angeles Lakers        F   \n",
              "1          Kawhi Leonard      97     #2  Los Angeles Clippers        F   \n",
              "2  Giannis Antetokounmpo      96    #34       Milwaukee Bucks      F-G   \n",
              "3           Kevin Durant      96     #7         Brooklyn Nets        F   \n",
              "4           James Harden      96    #13       Houston Rockets        G   \n",
              "\n",
              "      b_day    salary country  draft_year draft_round draft_peak  \\\n",
              "0  12/30/84  37436858     USA        2003           1          1   \n",
              "1  06/29/91  32742000     USA        2011           1         15   \n",
              "2  12/06/94  25842697  Greece        2013           1         15   \n",
              "3  09/29/88  37199000     USA        2007           1          2   \n",
              "4  08/26/89  38199000     USA        2009           1          3   \n",
              "\n",
              "           college  weight_lbs  height_cm  \n",
              "0  College Unknown         250      206.0  \n",
              "1  San Diego State         225      201.0  \n",
              "2  College Unknown         242      211.0  \n",
              "3            Texas         230      208.0  \n",
              "4    Arizona State         220      196.0  "
            ]
          },
          "metadata": {
            "tags": []
          },
          "execution_count": 18
        }
      ]
    },
    {
      "cell_type": "markdown",
      "metadata": {
        "id": "FuL3BiRu6N50"
      },
      "source": [
        "#### Derive a new column Age, from the date of birth values"
      ]
    },
    {
      "cell_type": "code",
      "metadata": {
        "id": "fvqdnBlC6N51"
      },
      "source": [
        "def from_date_to_age(date):\n",
        "    'Derive a new column Age, from the date of birth values'\n",
        "    born=datetime.datetime.strptime(date, '%m/%d/%y')\n",
        "    today = datetime.date.today()\n",
        "    return today.year - born.year - ((today.month, today.day) < (born.month, born.day))\n",
        "df[\"age\"]=df[\"b_day\"].apply(lambda x: from_date_to_age(x))"
      ],
      "execution_count": null,
      "outputs": []
    },
    {
      "cell_type": "code",
      "metadata": {
        "id": "fyops83h6N51",
        "outputId": "93ac0793-4850-4b38-d89c-bf4503efe549"
      },
      "source": [
        "df.dtypes"
      ],
      "execution_count": null,
      "outputs": [
        {
          "output_type": "execute_result",
          "data": {
            "text/plain": [
              "full_name       object\n",
              "rating           int64\n",
              "jersey          object\n",
              "team            object\n",
              "position        object\n",
              "b_day           object\n",
              "salary           int64\n",
              "country         object\n",
              "draft_year       int64\n",
              "draft_round     object\n",
              "draft_peak      object\n",
              "college         object\n",
              "weight_lbs       int64\n",
              "height_cm      float64\n",
              "age              int64\n",
              "dtype: object"
            ]
          },
          "metadata": {
            "tags": []
          },
          "execution_count": 20
        }
      ]
    },
    {
      "cell_type": "markdown",
      "metadata": {
        "id": "0V1-0JpV6N51"
      },
      "source": [
        "### Summary statistics of all the numeric attributes"
      ]
    },
    {
      "cell_type": "code",
      "metadata": {
        "id": "VkCiggvC6N51",
        "outputId": "a93394d8-7a86-472c-82aa-e72db3739659"
      },
      "source": [
        "def sumstats():\n",
        "    'Calculates the summary statistics of the numeric attributes of the Dataset'\n",
        "    stats_of_df = df.describe().transpose()\n",
        "    return stats_of_df\n",
        "sumstats()\n"
      ],
      "execution_count": null,
      "outputs": [
        {
          "output_type": "execute_result",
          "data": {
            "text/html": [
              "<div>\n",
              "<style scoped>\n",
              "    .dataframe tbody tr th:only-of-type {\n",
              "        vertical-align: middle;\n",
              "    }\n",
              "\n",
              "    .dataframe tbody tr th {\n",
              "        vertical-align: top;\n",
              "    }\n",
              "\n",
              "    .dataframe thead th {\n",
              "        text-align: right;\n",
              "    }\n",
              "</style>\n",
              "<table border=\"1\" class=\"dataframe\">\n",
              "  <thead>\n",
              "    <tr style=\"text-align: right;\">\n",
              "      <th></th>\n",
              "      <th>count</th>\n",
              "      <th>mean</th>\n",
              "      <th>std</th>\n",
              "      <th>min</th>\n",
              "      <th>25%</th>\n",
              "      <th>50%</th>\n",
              "      <th>75%</th>\n",
              "      <th>max</th>\n",
              "    </tr>\n",
              "  </thead>\n",
              "  <tbody>\n",
              "    <tr>\n",
              "      <th>rating</th>\n",
              "      <td>429.0</td>\n",
              "      <td>7.637296e+01</td>\n",
              "      <td>5.657748e+00</td>\n",
              "      <td>67.0</td>\n",
              "      <td>72.0</td>\n",
              "      <td>75.0</td>\n",
              "      <td>79.0</td>\n",
              "      <td>97.0</td>\n",
              "    </tr>\n",
              "    <tr>\n",
              "      <th>salary</th>\n",
              "      <td>429.0</td>\n",
              "      <td>8.530080e+06</td>\n",
              "      <td>9.218059e+06</td>\n",
              "      <td>50000.0</td>\n",
              "      <td>2000000.0</td>\n",
              "      <td>4380120.0</td>\n",
              "      <td>12200000.0</td>\n",
              "      <td>40231758.0</td>\n",
              "    </tr>\n",
              "    <tr>\n",
              "      <th>draft_year</th>\n",
              "      <td>429.0</td>\n",
              "      <td>2.014093e+03</td>\n",
              "      <td>3.937678e+00</td>\n",
              "      <td>2001.0</td>\n",
              "      <td>2012.0</td>\n",
              "      <td>2015.0</td>\n",
              "      <td>2017.0</td>\n",
              "      <td>2019.0</td>\n",
              "    </tr>\n",
              "    <tr>\n",
              "      <th>weight_lbs</th>\n",
              "      <td>429.0</td>\n",
              "      <td>2.143240e+02</td>\n",
              "      <td>2.322603e+01</td>\n",
              "      <td>170.0</td>\n",
              "      <td>197.0</td>\n",
              "      <td>213.0</td>\n",
              "      <td>230.0</td>\n",
              "      <td>290.0</td>\n",
              "    </tr>\n",
              "    <tr>\n",
              "      <th>height_cm</th>\n",
              "      <td>429.0</td>\n",
              "      <td>1.995641e+02</td>\n",
              "      <td>8.351435e+00</td>\n",
              "      <td>175.0</td>\n",
              "      <td>193.0</td>\n",
              "      <td>201.0</td>\n",
              "      <td>206.0</td>\n",
              "      <td>224.0</td>\n",
              "    </tr>\n",
              "    <tr>\n",
              "      <th>age</th>\n",
              "      <td>429.0</td>\n",
              "      <td>2.678089e+01</td>\n",
              "      <td>4.106469e+00</td>\n",
              "      <td>19.0</td>\n",
              "      <td>24.0</td>\n",
              "      <td>26.0</td>\n",
              "      <td>30.0</td>\n",
              "      <td>40.0</td>\n",
              "    </tr>\n",
              "  </tbody>\n",
              "</table>\n",
              "</div>"
            ],
            "text/plain": [
              "            count          mean           std      min        25%        50%  \\\n",
              "rating      429.0  7.637296e+01  5.657748e+00     67.0       72.0       75.0   \n",
              "salary      429.0  8.530080e+06  9.218059e+06  50000.0  2000000.0  4380120.0   \n",
              "draft_year  429.0  2.014093e+03  3.937678e+00   2001.0     2012.0     2015.0   \n",
              "weight_lbs  429.0  2.143240e+02  2.322603e+01    170.0      197.0      213.0   \n",
              "height_cm   429.0  1.995641e+02  8.351435e+00    175.0      193.0      201.0   \n",
              "age         429.0  2.678089e+01  4.106469e+00     19.0       24.0       26.0   \n",
              "\n",
              "                   75%         max  \n",
              "rating            79.0        97.0  \n",
              "salary      12200000.0  40231758.0  \n",
              "draft_year      2017.0      2019.0  \n",
              "weight_lbs       230.0       290.0  \n",
              "height_cm        206.0       224.0  \n",
              "age               30.0        40.0  "
            ]
          },
          "metadata": {
            "tags": []
          },
          "execution_count": 21
        }
      ]
    },
    {
      "cell_type": "markdown",
      "metadata": {
        "id": "1qjbpyei6N52"
      },
      "source": [
        "### Group by function: Average Player Salary of the Teams"
      ]
    },
    {
      "cell_type": "code",
      "metadata": {
        "id": "v641qHfJ6N52",
        "outputId": "6f874583-230f-4321-b67b-ef139f47f4c6"
      },
      "source": [
        "def avgSalaryofTeams():\n",
        "    'Average salary of the teams'\n",
        "    avgSal = df.groupby('team')['salary'].mean().round(2) #round the avg salary to 2 decimal points\n",
        "    return avgSal\n",
        "avgSalaryofTeams()\n"
      ],
      "execution_count": null,
      "outputs": [
        {
          "output_type": "execute_result",
          "data": {
            "text/plain": [
              "team\n",
              "Atlanta Hawks              6367084.00\n",
              "Boston Celtics             8335849.00\n",
              "Brooklyn Nets              9774913.64\n",
              "Charlotte Hornets          9325961.10\n",
              "Chicago Bulls              7496184.33\n",
              "Cleveland Cavaliers        9901506.92\n",
              "Dallas Mavericks           8844797.53\n",
              "Denver Nuggets             9937247.15\n",
              "Detroit Pistons            7407295.93\n",
              "Golden State Warriors     14347339.00\n",
              "Houston Rockets           10317469.08\n",
              "Indiana Pacers             7514208.27\n",
              "Los Angeles Clippers      10774057.29\n",
              "Los Angeles Lakers         8535837.47\n",
              "Memphis Grizzlies          7515854.69\n",
              "Miami Heat                10438351.00\n",
              "Milwaukee Bucks            8241299.06\n",
              "Minnesota Timberwolves     8664911.23\n",
              "New Orleans Pelicans       7835069.73\n",
              "New York Knicks            6671532.87\n",
              "Oklahoma City Thunder     10021747.92\n",
              "Orlando Magic              8442993.33\n",
              "Philadelphia 76ers         9215469.07\n",
              "Phoenix Suns               6269284.81\n",
              "Portland Trail Blazers    10671061.25\n",
              "Sacramento Kings           8045426.64\n",
              "San Antonio Spurs          7998998.00\n",
              "Team Unknown               4199227.35\n",
              "Toronto Raptors            9265979.92\n",
              "Utah Jazz                  9660545.67\n",
              "Washington Wizards         9178777.08\n",
              "Name: salary, dtype: float64"
            ]
          },
          "metadata": {
            "tags": []
          },
          "execution_count": 22
        }
      ]
    },
    {
      "cell_type": "markdown",
      "metadata": {
        "id": "9NN7Aldu6N52"
      },
      "source": [
        "#### A function that counts the number of players in a team"
      ]
    },
    {
      "cell_type": "code",
      "metadata": {
        "id": "MMkx-G9A6N52"
      },
      "source": [
        "def members_of_team(tcount):\n",
        "    'function that counts the number of players in a team'\n",
        "    members = {}\n",
        "    for i in tcount:\n",
        "        if i in members:\n",
        "            members[i]= members[i]+1\n",
        "        else:\n",
        "            members[i]=1\n",
        "    for team in members:\n",
        "        if members[team] == 1:\n",
        "            print('{:25} has {:2} player'.format(team, members[team]))\n",
        "        else:\n",
        "            print('{:22} has {:2} players'.format(team, members[team]))\n",
        "            \n",
        "        "
      ],
      "execution_count": null,
      "outputs": []
    },
    {
      "cell_type": "code",
      "metadata": {
        "id": "vodDgCQW6N53",
        "outputId": "3e354e60-f1fd-4065-9b3e-dcb119db112d"
      },
      "source": [
        "a = list(df['team'])\n",
        "a.sort()\n",
        "members_of_team(a) #calling the function\n"
      ],
      "execution_count": null,
      "outputs": [
        {
          "output_type": "stream",
          "text": [
            "Atlanta Hawks          has 12 players\n",
            "Boston Celtics         has 14 players\n",
            "Brooklyn Nets          has 14 players\n",
            "Charlotte Hornets      has 10 players\n",
            "Chicago Bulls          has 15 players\n",
            "Cleveland Cavaliers    has 12 players\n",
            "Dallas Mavericks       has 15 players\n",
            "Denver Nuggets         has 13 players\n",
            "Detroit Pistons        has 14 players\n",
            "Golden State Warriors  has  9 players\n",
            "Houston Rockets        has 13 players\n",
            "Indiana Pacers         has 15 players\n",
            "Los Angeles Clippers   has 14 players\n",
            "Los Angeles Lakers     has 15 players\n",
            "Memphis Grizzlies      has 13 players\n",
            "Miami Heat             has 12 players\n",
            "Milwaukee Bucks        has 17 players\n",
            "Minnesota Timberwolves has 13 players\n",
            "New Orleans Pelicans   has 15 players\n",
            "New York Knicks        has 15 players\n",
            "Oklahoma City Thunder  has 13 players\n",
            "Orlando Magic          has 15 players\n",
            "Philadelphia 76ers     has 14 players\n",
            "Phoenix Suns           has 16 players\n",
            "Portland Trail Blazers has 12 players\n",
            "Sacramento Kings       has 14 players\n",
            "San Antonio Spurs      has 14 players\n",
            "Team Unknown           has 23 players\n",
            "Toronto Raptors        has 13 players\n",
            "Utah Jazz              has 12 players\n",
            "Washington Wizards     has 13 players\n"
          ],
          "name": "stdout"
        }
      ]
    },
    {
      "cell_type": "markdown",
      "metadata": {
        "id": "RyBSq_Rb6N53"
      },
      "source": [
        "### Team with the highest number of players in it"
      ]
    },
    {
      "cell_type": "code",
      "metadata": {
        "id": "LLojUahT6N53",
        "outputId": "bcd02028-c26d-44ff-c447-97c52a5b2680"
      },
      "source": [
        "df['team'].value_counts()[:10].plot(kind='barh') #counting the number of players from top 5 country\n",
        "plt.title('Player Top 5 Team Distribution')\n",
        "plt.show()\n"
      ],
      "execution_count": null,
      "outputs": [
        {
          "output_type": "display_data",
          "data": {
            "image/png": "[encoded data removed]",
            "text/plain": [
              "<Figure size 432x288 with 1 Axes>"
            ]
          },
          "metadata": {
            "tags": [],
            "needs_background": "light"
          }
        }
      ]
    },
    {
      "cell_type": "markdown",
      "metadata": {
        "id": "ePnsRJ2T6N54"
      },
      "source": [
        "#### Correlation between numeric attributes of the Dataframe"
      ]
    },
    {
      "cell_type": "code",
      "metadata": {
        "id": "vEPmp9Wp6N54",
        "outputId": "d1630e55-821b-4983-8f98-7a1a068e42fa"
      },
      "source": [
        "def correlations():\n",
        "    'this functions shows the correlations between numeric attributes of the Dataframe'\n",
        "    corrAtt = df.corr('pearson')\n",
        "    return corrAtt\n",
        "correlations()\n"
      ],
      "execution_count": null,
      "outputs": [
        {
          "output_type": "execute_result",
          "data": {
            "text/html": [
              "<div>\n",
              "<style scoped>\n",
              "    .dataframe tbody tr th:only-of-type {\n",
              "        vertical-align: middle;\n",
              "    }\n",
              "\n",
              "    .dataframe tbody tr th {\n",
              "        vertical-align: top;\n",
              "    }\n",
              "\n",
              "    .dataframe thead th {\n",
              "        text-align: right;\n",
              "    }\n",
              "</style>\n",
              "<table border=\"1\" class=\"dataframe\">\n",
              "  <thead>\n",
              "    <tr style=\"text-align: right;\">\n",
              "      <th></th>\n",
              "      <th>rating</th>\n",
              "      <th>salary</th>\n",
              "      <th>draft_year</th>\n",
              "      <th>weight_lbs</th>\n",
              "      <th>height_cm</th>\n",
              "      <th>age</th>\n",
              "    </tr>\n",
              "  </thead>\n",
              "  <tbody>\n",
              "    <tr>\n",
              "      <th>rating</th>\n",
              "      <td>1.000000</td>\n",
              "      <td>0.775239</td>\n",
              "      <td>-0.391595</td>\n",
              "      <td>0.120446</td>\n",
              "      <td>0.089489</td>\n",
              "      <td>0.268915</td>\n",
              "    </tr>\n",
              "    <tr>\n",
              "      <th>salary</th>\n",
              "      <td>0.775239</td>\n",
              "      <td>1.000000</td>\n",
              "      <td>-0.512727</td>\n",
              "      <td>0.052419</td>\n",
              "      <td>0.039176</td>\n",
              "      <td>0.427032</td>\n",
              "    </tr>\n",
              "    <tr>\n",
              "      <th>draft_year</th>\n",
              "      <td>-0.391595</td>\n",
              "      <td>-0.512727</td>\n",
              "      <td>1.000000</td>\n",
              "      <td>-0.066626</td>\n",
              "      <td>-0.018157</td>\n",
              "      <td>-0.918288</td>\n",
              "    </tr>\n",
              "    <tr>\n",
              "      <th>weight_lbs</th>\n",
              "      <td>0.120446</td>\n",
              "      <td>0.052419</td>\n",
              "      <td>-0.066626</td>\n",
              "      <td>1.000000</td>\n",
              "      <td>0.733486</td>\n",
              "      <td>0.041191</td>\n",
              "    </tr>\n",
              "    <tr>\n",
              "      <th>height_cm</th>\n",
              "      <td>0.089489</td>\n",
              "      <td>0.039176</td>\n",
              "      <td>-0.018157</td>\n",
              "      <td>0.733486</td>\n",
              "      <td>1.000000</td>\n",
              "      <td>-0.026500</td>\n",
              "    </tr>\n",
              "    <tr>\n",
              "      <th>age</th>\n",
              "      <td>0.268915</td>\n",
              "      <td>0.427032</td>\n",
              "      <td>-0.918288</td>\n",
              "      <td>0.041191</td>\n",
              "      <td>-0.026500</td>\n",
              "      <td>1.000000</td>\n",
              "    </tr>\n",
              "  </tbody>\n",
              "</table>\n",
              "</div>"
            ],
            "text/plain": [
              "              rating    salary  draft_year  weight_lbs  height_cm       age\n",
              "rating      1.000000  0.775239   -0.391595    0.120446   0.089489  0.268915\n",
              "salary      0.775239  1.000000   -0.512727    0.052419   0.039176  0.427032\n",
              "draft_year -0.391595 -0.512727    1.000000   -0.066626  -0.018157 -0.918288\n",
              "weight_lbs  0.120446  0.052419   -0.066626    1.000000   0.733486  0.041191\n",
              "height_cm   0.089489  0.039176   -0.018157    0.733486   1.000000 -0.026500\n",
              "age         0.268915  0.427032   -0.918288    0.041191  -0.026500  1.000000"
            ]
          },
          "metadata": {
            "tags": []
          },
          "execution_count": 26
        }
      ]
    },
    {
      "cell_type": "code",
      "metadata": {
        "id": "CGWBF4z66N54",
        "outputId": "1bb6edae-deec-4223-af45-f200f8655d0a"
      },
      "source": [
        "plt.figure(figsize=(15,8))\n",
        "sns.heatmap(df.corr(), annot=True, linewidths=0.5, linecolor='black', cmap='coolwarm')\n",
        "plt.show()"
      ],
      "execution_count": null,
      "outputs": [
        {
          "output_type": "display_data",
          "data": {
            "image/png": "[encoded data removed]",
            "text/plain": [
              "<Figure size 1080x576 with 2 Axes>"
            ]
          },
          "metadata": {
            "tags": [],
            "needs_background": "light"
          }
        }
      ]
    },
    {
      "cell_type": "code",
      "metadata": {
        "id": "B8reHaYx6N54",
        "outputId": "0024749c-eaac-4059-cc21-246480ef9517"
      },
      "source": [
        "plt.plot(df['salary'], df['rating'], '*', color = 'black')\n",
        "\n",
        "plt.title('rating vs. salary')\n",
        "plt.xlabel('salary')\n",
        "plt.ylabel('rating')\n",
        "plt.show()"
      ],
      "execution_count": null,
      "outputs": [
        {
          "output_type": "display_data",
          "data": {
            "image/png": "[encoded data removed]",
            "text/plain": [
              "<Figure size 432x288 with 1 Axes>"
            ]
          },
          "metadata": {
            "tags": [],
            "needs_background": "light"
          }
        }
      ]
    },
    {
      "cell_type": "code",
      "metadata": {
        "id": "-pfkBsfs6N55",
        "outputId": "e409de57-6c60-4121-8406-6a9908f4c13c"
      },
      "source": [
        "plt.figure(figsize=(10,8))\n",
        "sns.set_style(\"whitegrid\")\n",
        "\n",
        "regPlot = sns.regplot(x='salary', y='rating', data=df, color='black')\n",
        "regPlot.set_title(\"Regression Plot of Rating and Salary\", fontsize=20)\n",
        "regPlot.set_xlabel(\"Player's Salary\", fontsize=15)\n",
        "regPlot.set_ylabel(\"Player's Rating\", fontsize=15)\n",
        "\n",
        "plt.show()"
      ],
      "execution_count": null,
      "outputs": [
        {
          "output_type": "display_data",
          "data": {
            "image/png": "[encoded data removed]",
            "text/plain": [
              "<Figure size 720x576 with 1 Axes>"
            ]
          },
          "metadata": {
            "tags": [],
            "needs_background": "light"
          }
        }
      ]
    },
    {
      "cell_type": "markdown",
      "metadata": {
        "id": "boclGf7h6N55"
      },
      "source": [
        "## Summary statistics"
      ]
    },
    {
      "cell_type": "code",
      "metadata": {
        "id": "ejGUnR8z6N55",
        "outputId": "8c8d847a-506e-446e-db22-fc5d793be512"
      },
      "source": [
        "df.describe().transpose()"
      ],
      "execution_count": null,
      "outputs": [
        {
          "output_type": "execute_result",
          "data": {
            "text/html": [
              "<div>\n",
              "<style scoped>\n",
              "    .dataframe tbody tr th:only-of-type {\n",
              "        vertical-align: middle;\n",
              "    }\n",
              "\n",
              "    .dataframe tbody tr th {\n",
              "        vertical-align: top;\n",
              "    }\n",
              "\n",
              "    .dataframe thead th {\n",
              "        text-align: right;\n",
              "    }\n",
              "</style>\n",
              "<table border=\"1\" class=\"dataframe\">\n",
              "  <thead>\n",
              "    <tr style=\"text-align: right;\">\n",
              "      <th></th>\n",
              "      <th>count</th>\n",
              "      <th>mean</th>\n",
              "      <th>std</th>\n",
              "      <th>min</th>\n",
              "      <th>25%</th>\n",
              "      <th>50%</th>\n",
              "      <th>75%</th>\n",
              "      <th>max</th>\n",
              "    </tr>\n",
              "  </thead>\n",
              "  <tbody>\n",
              "    <tr>\n",
              "      <th>rating</th>\n",
              "      <td>429.0</td>\n",
              "      <td>7.637296e+01</td>\n",
              "      <td>5.657748e+00</td>\n",
              "      <td>67.0</td>\n",
              "      <td>72.0</td>\n",
              "      <td>75.0</td>\n",
              "      <td>79.0</td>\n",
              "      <td>97.0</td>\n",
              "    </tr>\n",
              "    <tr>\n",
              "      <th>salary</th>\n",
              "      <td>429.0</td>\n",
              "      <td>8.530080e+06</td>\n",
              "      <td>9.218059e+06</td>\n",
              "      <td>50000.0</td>\n",
              "      <td>2000000.0</td>\n",
              "      <td>4380120.0</td>\n",
              "      <td>12200000.0</td>\n",
              "      <td>40231758.0</td>\n",
              "    </tr>\n",
              "    <tr>\n",
              "      <th>draft_year</th>\n",
              "      <td>429.0</td>\n",
              "      <td>2.014093e+03</td>\n",
              "      <td>3.937678e+00</td>\n",
              "      <td>2001.0</td>\n",
              "      <td>2012.0</td>\n",
              "      <td>2015.0</td>\n",
              "      <td>2017.0</td>\n",
              "      <td>2019.0</td>\n",
              "    </tr>\n",
              "    <tr>\n",
              "      <th>weight_lbs</th>\n",
              "      <td>429.0</td>\n",
              "      <td>2.143240e+02</td>\n",
              "      <td>2.322603e+01</td>\n",
              "      <td>170.0</td>\n",
              "      <td>197.0</td>\n",
              "      <td>213.0</td>\n",
              "      <td>230.0</td>\n",
              "      <td>290.0</td>\n",
              "    </tr>\n",
              "    <tr>\n",
              "      <th>height_cm</th>\n",
              "      <td>429.0</td>\n",
              "      <td>1.995641e+02</td>\n",
              "      <td>8.351435e+00</td>\n",
              "      <td>175.0</td>\n",
              "      <td>193.0</td>\n",
              "      <td>201.0</td>\n",
              "      <td>206.0</td>\n",
              "      <td>224.0</td>\n",
              "    </tr>\n",
              "    <tr>\n",
              "      <th>age</th>\n",
              "      <td>429.0</td>\n",
              "      <td>2.678089e+01</td>\n",
              "      <td>4.106469e+00</td>\n",
              "      <td>19.0</td>\n",
              "      <td>24.0</td>\n",
              "      <td>26.0</td>\n",
              "      <td>30.0</td>\n",
              "      <td>40.0</td>\n",
              "    </tr>\n",
              "  </tbody>\n",
              "</table>\n",
              "</div>"
            ],
            "text/plain": [
              "            count          mean           std      min        25%        50%  \\\n",
              "rating      429.0  7.637296e+01  5.657748e+00     67.0       72.0       75.0   \n",
              "salary      429.0  8.530080e+06  9.218059e+06  50000.0  2000000.0  4380120.0   \n",
              "draft_year  429.0  2.014093e+03  3.937678e+00   2001.0     2012.0     2015.0   \n",
              "weight_lbs  429.0  2.143240e+02  2.322603e+01    170.0      197.0      213.0   \n",
              "height_cm   429.0  1.995641e+02  8.351435e+00    175.0      193.0      201.0   \n",
              "age         429.0  2.678089e+01  4.106469e+00     19.0       24.0       26.0   \n",
              "\n",
              "                   75%         max  \n",
              "rating            79.0        97.0  \n",
              "salary      12200000.0  40231758.0  \n",
              "draft_year      2017.0      2019.0  \n",
              "weight_lbs       230.0       290.0  \n",
              "height_cm        206.0       224.0  \n",
              "age               30.0        40.0  "
            ]
          },
          "metadata": {
            "tags": []
          },
          "execution_count": 30
        }
      ]
    },
    {
      "cell_type": "markdown",
      "metadata": {
        "id": "JuteDyze6N55"
      },
      "source": [
        "## Data Analysis and Vizualizations using Matplotlib"
      ]
    },
    {
      "cell_type": "markdown",
      "metadata": {
        "id": "Luqi_L4E6N55"
      },
      "source": [
        "### Top five highest paid players"
      ]
    },
    {
      "cell_type": "code",
      "metadata": {
        "id": "UOjzhxMm6N55",
        "outputId": "ddfa7f11-4b43-4325-817b-5fc17488870d"
      },
      "source": [
        "def highPaid():\n",
        "    'Shows the top five highest paid players'\n",
        "    hightest_paid_players = df.sort_values(by = ['salary'], ascending=False).head(5)\n",
        "    return hightest_paid_players[['full_name','salary']]\n",
        "highPaid()\n"
      ],
      "execution_count": null,
      "outputs": [
        {
          "output_type": "execute_result",
          "data": {
            "text/html": [
              "<div>\n",
              "<style scoped>\n",
              "    .dataframe tbody tr th:only-of-type {\n",
              "        vertical-align: middle;\n",
              "    }\n",
              "\n",
              "    .dataframe tbody tr th {\n",
              "        vertical-align: top;\n",
              "    }\n",
              "\n",
              "    .dataframe thead th {\n",
              "        text-align: right;\n",
              "    }\n",
              "</style>\n",
              "<table border=\"1\" class=\"dataframe\">\n",
              "  <thead>\n",
              "    <tr style=\"text-align: right;\">\n",
              "      <th></th>\n",
              "      <th>full_name</th>\n",
              "      <th>salary</th>\n",
              "    </tr>\n",
              "  </thead>\n",
              "  <tbody>\n",
              "    <tr>\n",
              "      <th>5</th>\n",
              "      <td>Stephen Curry</td>\n",
              "      <td>40231758</td>\n",
              "    </tr>\n",
              "    <tr>\n",
              "      <th>48</th>\n",
              "      <td>Chris Paul</td>\n",
              "      <td>38506482</td>\n",
              "    </tr>\n",
              "    <tr>\n",
              "      <th>12</th>\n",
              "      <td>Russell Westbrook</td>\n",
              "      <td>38506482</td>\n",
              "    </tr>\n",
              "    <tr>\n",
              "      <th>38</th>\n",
              "      <td>John Wall</td>\n",
              "      <td>38199000</td>\n",
              "    </tr>\n",
              "    <tr>\n",
              "      <th>4</th>\n",
              "      <td>James Harden</td>\n",
              "      <td>38199000</td>\n",
              "    </tr>\n",
              "  </tbody>\n",
              "</table>\n",
              "</div>"
            ],
            "text/plain": [
              "            full_name    salary\n",
              "5       Stephen Curry  40231758\n",
              "48         Chris Paul  38506482\n",
              "12  Russell Westbrook  38506482\n",
              "38          John Wall  38199000\n",
              "4        James Harden  38199000"
            ]
          },
          "metadata": {
            "tags": []
          },
          "execution_count": 28
        }
      ]
    },
    {
      "cell_type": "markdown",
      "metadata": {
        "id": "0PB2I8DR6N56"
      },
      "source": [
        "### Who is the most expensive player?"
      ]
    },
    {
      "cell_type": "code",
      "metadata": {
        "id": "cnKutlTs6N56",
        "outputId": "b685a356-589d-4a48-88ae-850744ad74de"
      },
      "source": [
        "def MEP():\n",
        "    'The most expensive player'\n",
        "    MEP = df[df['salary'] == df['salary'].max()].full_name.values[0]\n",
        "    salary = df['salary'].max()\n",
        "    print(MEP, 'is the most expensive player and he earns' , salary , 'per year' )\n",
        "    \n",
        "MEP()\n"
      ],
      "execution_count": null,
      "outputs": [
        {
          "output_type": "stream",
          "text": [
            "Stephen Curry is the most expensive player and he earns 40231758 per year\n"
          ],
          "name": "stdout"
        }
      ]
    },
    {
      "cell_type": "markdown",
      "metadata": {
        "id": "JR34uJmm6N56"
      },
      "source": [
        "### Who is the least expensive player? "
      ]
    },
    {
      "cell_type": "code",
      "metadata": {
        "id": "87ncQPwC6N56",
        "outputId": "90ef7295-95c8-4dc1-f5ff-f8535b259b80"
      },
      "source": [
        "def LEP():\n",
        "    'The least expensive player'\n",
        "    LEP = df[df['salary'] == df['salary'].min()].full_name.values[0]\n",
        "    salary = df['salary'].min()\n",
        "    print(LEP, 'is the least expensive and he earns' , salary, 'per year' )\n",
        "    \n",
        "LEP()\n"
      ],
      "execution_count": null,
      "outputs": [
        {
          "output_type": "stream",
          "text": [
            "Tyler Lydon is the least expensive and he earns 50000 per year\n"
          ],
          "name": "stdout"
        }
      ]
    },
    {
      "cell_type": "markdown",
      "metadata": {
        "id": "MIIkAjGN6N57"
      },
      "source": [
        "### Top 5 highest rated players"
      ]
    },
    {
      "cell_type": "code",
      "metadata": {
        "id": "8J0B_sOV6N57",
        "outputId": "7526c4dd-1960-4129-e71c-9c21a1054179"
      },
      "source": [
        "def highRate():\n",
        "    'Shows the top five highest rated players'\n",
        "    hightest_rated_players = df.sort_values(by = ['rating'], ascending=False).head(5)\n",
        "    return hightest_rated_players[['full_name','rating']]\n",
        "highRate()\n",
        "\n"
      ],
      "execution_count": null,
      "outputs": [
        {
          "output_type": "execute_result",
          "data": {
            "text/html": [
              "<div>\n",
              "<style scoped>\n",
              "    .dataframe tbody tr th:only-of-type {\n",
              "        vertical-align: middle;\n",
              "    }\n",
              "\n",
              "    .dataframe tbody tr th {\n",
              "        vertical-align: top;\n",
              "    }\n",
              "\n",
              "    .dataframe thead th {\n",
              "        text-align: right;\n",
              "    }\n",
              "</style>\n",
              "<table border=\"1\" class=\"dataframe\">\n",
              "  <thead>\n",
              "    <tr style=\"text-align: right;\">\n",
              "      <th></th>\n",
              "      <th>full_name</th>\n",
              "      <th>rating</th>\n",
              "    </tr>\n",
              "  </thead>\n",
              "  <tbody>\n",
              "    <tr>\n",
              "      <th>0</th>\n",
              "      <td>LeBron James</td>\n",
              "      <td>97</td>\n",
              "    </tr>\n",
              "    <tr>\n",
              "      <th>1</th>\n",
              "      <td>Kawhi Leonard</td>\n",
              "      <td>97</td>\n",
              "    </tr>\n",
              "    <tr>\n",
              "      <th>2</th>\n",
              "      <td>Giannis Antetokounmpo</td>\n",
              "      <td>96</td>\n",
              "    </tr>\n",
              "    <tr>\n",
              "      <th>3</th>\n",
              "      <td>Kevin Durant</td>\n",
              "      <td>96</td>\n",
              "    </tr>\n",
              "    <tr>\n",
              "      <th>4</th>\n",
              "      <td>James Harden</td>\n",
              "      <td>96</td>\n",
              "    </tr>\n",
              "  </tbody>\n",
              "</table>\n",
              "</div>"
            ],
            "text/plain": [
              "               full_name  rating\n",
              "0           LeBron James      97\n",
              "1          Kawhi Leonard      97\n",
              "2  Giannis Antetokounmpo      96\n",
              "3           Kevin Durant      96\n",
              "4           James Harden      96"
            ]
          },
          "metadata": {
            "tags": []
          },
          "execution_count": 31
        }
      ]
    },
    {
      "cell_type": "markdown",
      "metadata": {
        "id": "vKohs6Lp6N57"
      },
      "source": [
        "### 5 strongest teams based on the average rating of the player"
      ]
    },
    {
      "cell_type": "code",
      "metadata": {
        "id": "JHW32YC36N58",
        "outputId": "024cf75a-ce44-40e0-b953-0332848ba6fa"
      },
      "source": [
        "def StrongTeam():\n",
        "    'Showes the 5 strongest NBA team based on the average rating of the players in the team'\n",
        "    StrongestTeam = df.groupby('team')['rating'].mean().round(2).sort_values(ascending = False).head()\n",
        "    return StrongestTeam\n",
        "StrongTeam()\n"
      ],
      "execution_count": null,
      "outputs": [
        {
          "output_type": "execute_result",
          "data": {
            "text/plain": [
              "team\n",
              "Los Angeles Clippers     79.29\n",
              "Golden State Warriors    79.11\n",
              "Brooklyn Nets            78.71\n",
              "Utah Jazz                78.33\n",
              "Los Angeles Lakers       77.80\n",
              "Name: rating, dtype: float64"
            ]
          },
          "metadata": {
            "tags": []
          },
          "execution_count": 32
        }
      ]
    },
    {
      "cell_type": "markdown",
      "metadata": {
        "id": "UNVcg_7a6N58"
      },
      "source": [
        "### Player’s salary distribution across all teams "
      ]
    },
    {
      "cell_type": "code",
      "metadata": {
        "id": "hpczhBwp6N58",
        "outputId": "091cc5eb-b4ce-445e-f1d7-6d1dd7e214c1"
      },
      "source": [
        "plt.figure(figsize=(15, 8))\n",
        "plt.title(\"Salary distribution based on players teams\", fontsize=18)\n",
        "x = sns.boxplot(x=\"team\", y=\"salary\", data=df)\n",
        "x.set_xticklabels(x.get_xticklabels(), rotation=90)"
      ],
      "execution_count": null,
      "outputs": [
        {
          "output_type": "execute_result",
          "data": {
            "text/plain": [
              "[Text(0, 0, 'Los Angeles Lakers'),\n",
              " Text(0, 0, 'Los Angeles Clippers'),\n",
              " Text(0, 0, 'Milwaukee Bucks'),\n",
              " Text(0, 0, 'Brooklyn Nets'),\n",
              " Text(0, 0, 'Houston Rockets'),\n",
              " Text(0, 0, 'Golden State Warriors'),\n",
              " Text(0, 0, 'Portland Trail Blazers'),\n",
              " Text(0, 0, 'Philadelphia 76ers'),\n",
              " Text(0, 0, 'Denver Nuggets'),\n",
              " Text(0, 0, 'Minnesota Timberwolves'),\n",
              " Text(0, 0, 'Miami Heat'),\n",
              " Text(0, 0, 'Utah Jazz'),\n",
              " Text(0, 0, 'Detroit Pistons'),\n",
              " Text(0, 0, 'Boston Celtics'),\n",
              " Text(0, 0, 'Dallas Mavericks'),\n",
              " Text(0, 0, 'San Antonio Spurs'),\n",
              " Text(0, 0, 'Washington Wizards'),\n",
              " Text(0, 0, 'Indiana Pacers'),\n",
              " Text(0, 0, 'Toronto Raptors'),\n",
              " Text(0, 0, 'Sacramento Kings'),\n",
              " Text(0, 0, 'Phoenix Suns'),\n",
              " Text(0, 0, 'Team Unknown'),\n",
              " Text(0, 0, 'Cleveland Cavaliers'),\n",
              " Text(0, 0, 'New Orleans Pelicans'),\n",
              " Text(0, 0, 'Orlando Magic'),\n",
              " Text(0, 0, 'Atlanta Hawks'),\n",
              " Text(0, 0, 'Chicago Bulls'),\n",
              " Text(0, 0, 'Oklahoma City Thunder'),\n",
              " Text(0, 0, 'New York Knicks'),\n",
              " Text(0, 0, 'Memphis Grizzlies'),\n",
              " Text(0, 0, 'Charlotte Hornets')]"
            ]
          },
          "metadata": {
            "tags": []
          },
          "execution_count": 33
        },
        {
          "output_type": "display_data",
          "data": {
            "image/png": "[encoded data removed]",
            "text/plain": [
              "<Figure size 1080x576 with 1 Axes>"
            ]
          },
          "metadata": {
            "tags": []
          }
        }
      ]
    },
    {
      "cell_type": "markdown",
      "metadata": {
        "id": "mvgCxX4g6N58"
      },
      "source": [
        "### Lowest and Highest rating present in the dataset"
      ]
    },
    {
      "cell_type": "code",
      "metadata": {
        "id": "Na4JEy5g6N59",
        "outputId": "11d76179-a192-45f3-ab9e-20ef775f7e2b"
      },
      "source": [
        "def mostLeast():\n",
        "    'Lowest and Highest rating present in the dataset'\n",
        "    highest = df[df['rating'] == df['rating'].max()].full_name.values[0]\n",
        "    high = df['rating'].max()\n",
        "    lowest = df[df['rating'] == df['rating'].min()].full_name.values[0]\n",
        "    low = df['rating'].min()\n",
        "    print(lowest, 'is the lowest rated player presented in dataset. ', 'His rating is -', low)\n",
        "    print(highest, 'is the highest rated player presented in dataset. ', 'His rating is -', high)\n",
        "mostLeast()\n"
      ],
      "execution_count": null,
      "outputs": [
        {
          "output_type": "stream",
          "text": [
            "Duncan Robinson is the lowest rated player presented in dataset.  His rating is - 67\n",
            "LeBron James is the highest rated player presented in dataset.  His rating is - 97\n"
          ],
          "name": "stdout"
        }
      ]
    },
    {
      "cell_type": "markdown",
      "metadata": {
        "id": "EgEATVN06N59"
      },
      "source": [
        "### Team grouped by rating"
      ]
    },
    {
      "cell_type": "code",
      "metadata": {
        "id": "4UVmachS6N59",
        "outputId": "29d9716a-3fdc-42fd-eb62-f157ace1bac3"
      },
      "source": [
        "def teamRate():\n",
        "    'Team grouped by their rating'\n",
        "    teamRating = df[['team','rating']].groupby('team').sum().sort_values(by='rating', ascending=False)\n",
        "    return teamRating\n",
        "teamRate()\n"
      ],
      "execution_count": null,
      "outputs": [
        {
          "output_type": "execute_result",
          "data": {
            "text/html": [
              "<div>\n",
              "<style scoped>\n",
              "    .dataframe tbody tr th:only-of-type {\n",
              "        vertical-align: middle;\n",
              "    }\n",
              "\n",
              "    .dataframe tbody tr th {\n",
              "        vertical-align: top;\n",
              "    }\n",
              "\n",
              "    .dataframe thead th {\n",
              "        text-align: right;\n",
              "    }\n",
              "</style>\n",
              "<table border=\"1\" class=\"dataframe\">\n",
              "  <thead>\n",
              "    <tr style=\"text-align: right;\">\n",
              "      <th></th>\n",
              "      <th>rating</th>\n",
              "    </tr>\n",
              "    <tr>\n",
              "      <th>team</th>\n",
              "      <th></th>\n",
              "    </tr>\n",
              "  </thead>\n",
              "  <tbody>\n",
              "    <tr>\n",
              "      <th>Team Unknown</th>\n",
              "      <td>1673</td>\n",
              "    </tr>\n",
              "    <tr>\n",
              "      <th>Milwaukee Bucks</th>\n",
              "      <td>1299</td>\n",
              "    </tr>\n",
              "    <tr>\n",
              "      <th>Phoenix Suns</th>\n",
              "      <td>1200</td>\n",
              "    </tr>\n",
              "    <tr>\n",
              "      <th>Los Angeles Lakers</th>\n",
              "      <td>1167</td>\n",
              "    </tr>\n",
              "    <tr>\n",
              "      <th>Dallas Mavericks</th>\n",
              "      <td>1153</td>\n",
              "    </tr>\n",
              "    <tr>\n",
              "      <th>New Orleans Pelicans</th>\n",
              "      <td>1146</td>\n",
              "    </tr>\n",
              "    <tr>\n",
              "      <th>Indiana Pacers</th>\n",
              "      <td>1144</td>\n",
              "    </tr>\n",
              "    <tr>\n",
              "      <th>Chicago Bulls</th>\n",
              "      <td>1136</td>\n",
              "    </tr>\n",
              "    <tr>\n",
              "      <th>Orlando Magic</th>\n",
              "      <td>1134</td>\n",
              "    </tr>\n",
              "    <tr>\n",
              "      <th>New York Knicks</th>\n",
              "      <td>1134</td>\n",
              "    </tr>\n",
              "    <tr>\n",
              "      <th>Los Angeles Clippers</th>\n",
              "      <td>1110</td>\n",
              "    </tr>\n",
              "    <tr>\n",
              "      <th>Brooklyn Nets</th>\n",
              "      <td>1102</td>\n",
              "    </tr>\n",
              "    <tr>\n",
              "      <th>Sacramento Kings</th>\n",
              "      <td>1084</td>\n",
              "    </tr>\n",
              "    <tr>\n",
              "      <th>Philadelphia 76ers</th>\n",
              "      <td>1082</td>\n",
              "    </tr>\n",
              "    <tr>\n",
              "      <th>Boston Celtics</th>\n",
              "      <td>1078</td>\n",
              "    </tr>\n",
              "    <tr>\n",
              "      <th>San Antonio Spurs</th>\n",
              "      <td>1076</td>\n",
              "    </tr>\n",
              "    <tr>\n",
              "      <th>Detroit Pistons</th>\n",
              "      <td>1034</td>\n",
              "    </tr>\n",
              "    <tr>\n",
              "      <th>Denver Nuggets</th>\n",
              "      <td>1011</td>\n",
              "    </tr>\n",
              "    <tr>\n",
              "      <th>Houston Rockets</th>\n",
              "      <td>1010</td>\n",
              "    </tr>\n",
              "    <tr>\n",
              "      <th>Toronto Raptors</th>\n",
              "      <td>993</td>\n",
              "    </tr>\n",
              "    <tr>\n",
              "      <th>Minnesota Timberwolves</th>\n",
              "      <td>984</td>\n",
              "    </tr>\n",
              "    <tr>\n",
              "      <th>Oklahoma City Thunder</th>\n",
              "      <td>984</td>\n",
              "    </tr>\n",
              "    <tr>\n",
              "      <th>Memphis Grizzlies</th>\n",
              "      <td>982</td>\n",
              "    </tr>\n",
              "    <tr>\n",
              "      <th>Washington Wizards</th>\n",
              "      <td>976</td>\n",
              "    </tr>\n",
              "    <tr>\n",
              "      <th>Utah Jazz</th>\n",
              "      <td>940</td>\n",
              "    </tr>\n",
              "    <tr>\n",
              "      <th>Portland Trail Blazers</th>\n",
              "      <td>930</td>\n",
              "    </tr>\n",
              "    <tr>\n",
              "      <th>Cleveland Cavaliers</th>\n",
              "      <td>919</td>\n",
              "    </tr>\n",
              "    <tr>\n",
              "      <th>Atlanta Hawks</th>\n",
              "      <td>914</td>\n",
              "    </tr>\n",
              "    <tr>\n",
              "      <th>Miami Heat</th>\n",
              "      <td>909</td>\n",
              "    </tr>\n",
              "    <tr>\n",
              "      <th>Charlotte Hornets</th>\n",
              "      <td>748</td>\n",
              "    </tr>\n",
              "    <tr>\n",
              "      <th>Golden State Warriors</th>\n",
              "      <td>712</td>\n",
              "    </tr>\n",
              "  </tbody>\n",
              "</table>\n",
              "</div>"
            ],
            "text/plain": [
              "                        rating\n",
              "team                          \n",
              "Team Unknown              1673\n",
              "Milwaukee Bucks           1299\n",
              "Phoenix Suns              1200\n",
              "Los Angeles Lakers        1167\n",
              "Dallas Mavericks          1153\n",
              "New Orleans Pelicans      1146\n",
              "Indiana Pacers            1144\n",
              "Chicago Bulls             1136\n",
              "Orlando Magic             1134\n",
              "New York Knicks           1134\n",
              "Los Angeles Clippers      1110\n",
              "Brooklyn Nets             1102\n",
              "Sacramento Kings          1084\n",
              "Philadelphia 76ers        1082\n",
              "Boston Celtics            1078\n",
              "San Antonio Spurs         1076\n",
              "Detroit Pistons           1034\n",
              "Denver Nuggets            1011\n",
              "Houston Rockets           1010\n",
              "Toronto Raptors            993\n",
              "Minnesota Timberwolves     984\n",
              "Oklahoma City Thunder      984\n",
              "Memphis Grizzlies          982\n",
              "Washington Wizards         976\n",
              "Utah Jazz                  940\n",
              "Portland Trail Blazers     930\n",
              "Cleveland Cavaliers        919\n",
              "Atlanta Hawks              914\n",
              "Miami Heat                 909\n",
              "Charlotte Hornets          748\n",
              "Golden State Warriors      712"
            ]
          },
          "metadata": {
            "tags": []
          },
          "execution_count": 35
        }
      ]
    },
    {
      "cell_type": "markdown",
      "metadata": {
        "id": "v4v3EMiR6N59"
      },
      "source": [
        "### Position distribution"
      ]
    },
    {
      "cell_type": "code",
      "metadata": {
        "id": "L1DUJY5t6N59",
        "outputId": "c37c5a7a-be3e-45f1-e430-491da31529c1"
      },
      "source": [
        "df['position'].value_counts()\n"
      ],
      "execution_count": null,
      "outputs": [
        {
          "output_type": "execute_result",
          "data": {
            "text/plain": [
              "G      169\n",
              "F      138\n",
              "C       48\n",
              "F-C     36\n",
              "G-F     19\n",
              "F-G     13\n",
              "C-F      6\n",
              "Name: position, dtype: int64"
            ]
          },
          "metadata": {
            "tags": []
          },
          "execution_count": 36
        }
      ]
    },
    {
      "cell_type": "code",
      "metadata": {
        "id": "6reOldxE6N5-",
        "outputId": "6c24d40a-87b3-4a41-ef7a-2548bdf47a4d"
      },
      "source": [
        "df['position'].value_counts()[:5].plot(kind='pie') #counting the number of players from top 5 country\n",
        "plt.title('Player Position')\n",
        "plt.show()\n"
      ],
      "execution_count": null,
      "outputs": [
        {
          "output_type": "display_data",
          "data": {
            "image/png": "[encoded data removed]",
            "text/plain": [
              "<Figure size 432x288 with 1 Axes>"
            ]
          },
          "metadata": {
            "tags": []
          }
        }
      ]
    },
    {
      "cell_type": "markdown",
      "metadata": {
        "id": "JpqSLJ966N5-"
      },
      "source": [
        "- G (Guard) is the most common player position"
      ]
    },
    {
      "cell_type": "markdown",
      "metadata": {
        "id": "lN3H0iVI6N5-"
      },
      "source": [
        "### 5 Colleges whose graduates have the highest salary"
      ]
    },
    {
      "cell_type": "code",
      "metadata": {
        "id": "Ap4RdhVp6N5-",
        "outputId": "1f0a181f-d5a2-463a-b35f-c6a9ea678279"
      },
      "source": [
        "avgSalByCol = df.groupby('college')['salary'].mean()\n",
        "topCol = avgSalByCol.sort_values(ascending=False).head()\n",
        "print(topCol)\n"
      ],
      "execution_count": null,
      "outputs": [
        {
          "output_type": "stream",
          "text": [
            "college\n",
            "Davidson           40231758.0\n",
            "Arizona State      38199000.0\n",
            "San Diego State    32742000.0\n",
            "Butler             32700690.0\n",
            "Louisiana Tech     30350000.0\n",
            "Name: salary, dtype: float64\n"
          ],
          "name": "stdout"
        }
      ]
    },
    {
      "cell_type": "code",
      "metadata": {
        "scrolled": true,
        "id": "rXqTVpuc6N5_",
        "outputId": "2262696d-7ef2-41a5-b9d2-37f2e7a4772e"
      },
      "source": [
        "avgSalByCol.sort_values(ascending=False)[:5].plot(kind='bar', color = 'orange')\n",
        "plt.show()\n"
      ],
      "execution_count": null,
      "outputs": [
        {
          "output_type": "display_data",
          "data": {
            "image/png": "[encoded data removed]",
            "text/plain": [
              "<Figure size 432x288 with 1 Axes>"
            ]
          },
          "metadata": {
            "tags": []
          }
        }
      ]
    },
    {
      "cell_type": "markdown",
      "metadata": {
        "id": "1U3HCNm06N5_"
      },
      "source": [
        "### Player's Country Count"
      ]
    },
    {
      "cell_type": "code",
      "metadata": {
        "id": "1im0YhvH6N5_"
      },
      "source": [
        "def country_count(count):\n",
        "    'Counts the number of players by country'\n",
        "    country = {} \n",
        "    for player in count:\n",
        "        if player in country:\n",
        "            country[player]= country[player]+1\n",
        "        else:\n",
        "            country[player]=1\n",
        "    for players in country:\n",
        "        if country[players] == 1:\n",
        "            print('There is {:2} player from {:10}'.format(country[players] ,players))\n",
        "        else:\n",
        "            print('There are {:1} players from {:12}'.format(country[players] ,players))\n",
        "            "
      ],
      "execution_count": null,
      "outputs": []
    },
    {
      "cell_type": "code",
      "metadata": {
        "id": "gOFNxjBQ6N6A",
        "outputId": "557ac82f-9d84-4f9a-fb5e-9b0b1716a58a"
      },
      "source": [
        "c = list(df['country'])\n",
        "c.sort()\n",
        "country_count(c)"
      ],
      "execution_count": null,
      "outputs": [
        {
          "output_type": "stream",
          "text": [
            "There is  1 player from Angola    \n",
            "There are 9 players from Australia   \n",
            "There is  1 player from Austria   \n",
            "There are 2 players from Bosnia and Herzegovina\n",
            "There are 2 players from Brazil      \n",
            "There are 2 players from Cameroon    \n",
            "There are 15 players from Canada      \n",
            "There are 6 players from Croatia     \n",
            "There is  1 player from Czech     \n",
            "There are 2 players from Democratic Republic of the Congo\n",
            "There is  1 player from Dominican Republic\n",
            "There is  1 player from Egypt     \n",
            "There is  1 player from Finland   \n",
            "There are 8 players from France      \n",
            "There is  1 player from Georgia   \n",
            "There are 6 players from Germany     \n",
            "There are 3 players from Greece      \n",
            "There is  1 player from Haiti     \n",
            "There is  1 player from Israel    \n",
            "There are 4 players from Italy       \n",
            "There is  1 player from Japan     \n",
            "There are 3 players from Latvia      \n",
            "There are 2 players from Lithuania   \n",
            "There is  1 player from Mali      \n",
            "There is  1 player from Montenegro\n",
            "There is  1 player from New Zealand\n",
            "There are 3 players from Nigeria     \n",
            "There is  1 player from Philippines\n",
            "There is  1 player from Puerto Rico\n",
            "There is  1 player from Senegal   \n",
            "There are 5 players from Serbia      \n",
            "There are 2 players from Slovenia    \n",
            "There are 6 players from Spain       \n",
            "There is  1 player from Switzerland\n",
            "There are 2 players from The Bahamas \n",
            "There are 4 players from Turkey      \n",
            "There are 323 players from USA         \n",
            "There are 2 players from Ukraine     \n",
            "There is  1 player from United Kingdom\n"
          ],
          "name": "stdout"
        }
      ]
    },
    {
      "cell_type": "markdown",
      "metadata": {
        "id": "aB7RFQgN6N6A"
      },
      "source": [
        "#### Top 5 Country Distribution"
      ]
    },
    {
      "cell_type": "code",
      "metadata": {
        "id": "jqLvJE8g6N6A",
        "outputId": "3b3846f7-fa33-4aab-b680-37c12d33b15d"
      },
      "source": [
        "df['country'].value_counts()[:5].plot(kind='barh') #counting the number of players from top 5 country\n",
        "plt.title('Player Top 5 Country Distribution')\n",
        "plt.xlabel('No. of Players')\n",
        "plt.ylabel('Country ')\n",
        "plt.show()\n"
      ],
      "execution_count": null,
      "outputs": [
        {
          "output_type": "display_data",
          "data": {
            "image/png": "[encoded data removed]",
            "text/plain": [
              "<Figure size 432x288 with 1 Axes>"
            ]
          },
          "metadata": {
            "tags": []
          }
        }
      ]
    },
    {
      "cell_type": "markdown",
      "metadata": {
        "id": "AqbNzt1H6N6B"
      },
      "source": [
        "`Most of the players are from USA`\n",
        "\n",
        "`Top 5 countries by count of players:`\n",
        "\n",
        "- USA\n",
        "- Canada\n",
        "- Australia\n",
        "- France\n",
        "- Germany"
      ]
    },
    {
      "cell_type": "markdown",
      "metadata": {
        "id": "CSn694XH6N6B"
      },
      "source": [
        "#### Plotting the top 5 jersey numbers"
      ]
    },
    {
      "cell_type": "code",
      "metadata": {
        "id": "zpMKrmj06N6B",
        "outputId": "4da53ffa-772b-4d27-d4be-713de2b5989c"
      },
      "source": [
        "df['jersey'].value_counts()[:5].plot(kind='barh') #counting the number of players from top 10 teams\n",
        "plt.title('Top 5 jerseys')\n",
        "plt.xlabel('No. of Players')\n",
        "plt.ylabel('jersey number')\n",
        "plt.show()\n"
      ],
      "execution_count": null,
      "outputs": [
        {
          "output_type": "display_data",
          "data": {
            "image/png": "[encoded data removed]",
            "text/plain": [
              "<Figure size 432x288 with 1 Axes>"
            ]
          },
          "metadata": {
            "tags": []
          }
        }
      ]
    },
    {
      "cell_type": "markdown",
      "metadata": {
        "id": "GofubhGp6N6B"
      },
      "source": [
        "`#0 is the most common jersey number`"
      ]
    },
    {
      "cell_type": "markdown",
      "metadata": {
        "id": "M0jieJAU6N6B"
      },
      "source": [
        "### Who is the tallest player?"
      ]
    },
    {
      "cell_type": "code",
      "metadata": {
        "id": "yM-Wm-ZD6N6B",
        "outputId": "62e552e2-7bdd-43a2-d739-e5242bddd669"
      },
      "source": [
        "def tallest():\n",
        "    'The tallest player in the dataset'\n",
        "    tallPlayer = df[df['height_cm'] == df['height_cm'].max()].full_name.values[0] \n",
        "    height = df['height_cm'].max()\n",
        "    print ('The tallest player is', tallPlayer, ',he is' , height, 'cms')\n",
        "tallest()"
      ],
      "execution_count": null,
      "outputs": [
        {
          "output_type": "stream",
          "text": [
            "The tallest player is Boban Marjanovic ,he is 224.00000000000003 cms\n"
          ],
          "name": "stdout"
        }
      ]
    },
    {
      "cell_type": "markdown",
      "metadata": {
        "id": "zOisKG2S6N6C"
      },
      "source": [
        "### Who is the shortest player?"
      ]
    },
    {
      "cell_type": "code",
      "metadata": {
        "id": "1jXF3yK06N6C",
        "outputId": "3f55f22a-a57b-470b-815c-23f484a3107a"
      },
      "source": [
        "def shortest():\n",
        "    'The shortest player in the dataset'\n",
        "    shortPlayer = df[df['height_cm'] == df['height_cm'].min()].full_name.values[0] \n",
        "    height = df['height_cm'].min()\n",
        "    print ('The shortest player is', shortPlayer, ',he is' , height, 'cms')\n",
        "shortest()"
      ],
      "execution_count": null,
      "outputs": [
        {
          "output_type": "stream",
          "text": [
            "The shortest player is Isaiah Thomas ,he is 175.0 cms\n"
          ],
          "name": "stdout"
        }
      ]
    },
    {
      "cell_type": "markdown",
      "metadata": {
        "id": "FaDuuklx6N6C"
      },
      "source": [
        "### Who is the heaviest player?"
      ]
    },
    {
      "cell_type": "code",
      "metadata": {
        "id": "tM2LOKXi6N6C",
        "outputId": "248190db-de25-4f90-d1fc-1a8ced6408ea"
      },
      "source": [
        "def heavy():\n",
        "    'The heaviest player in the dataset'\n",
        "    heavyPlayer = df[df['weight_lbs'] == df['weight_lbs'].max()].full_name.values[0] \n",
        "    weight = df['weight_lbs'].max()\n",
        "    print ('The heaviest player is', heavyPlayer, ',he is' , weight, 'lbs')\n",
        "heavy()"
      ],
      "execution_count": null,
      "outputs": [
        {
          "output_type": "stream",
          "text": [
            "The heaviest player is Jusuf Nurkic ,he is 290 lbs\n"
          ],
          "name": "stdout"
        }
      ]
    },
    {
      "cell_type": "markdown",
      "metadata": {
        "id": "wx9Bv8uK6N6C"
      },
      "source": [
        "### Age distribution"
      ]
    },
    {
      "cell_type": "code",
      "metadata": {
        "id": "lVtI2SsA6N6D",
        "outputId": "95472802-a896-4e78-8eb5-4601cd0ea5be"
      },
      "source": [
        "df['age'].value_counts()[:].plot(kind='barh') \n",
        "plt.title('Age')\n",
        "plt.xlabel('No. of Players')\n",
        "plt.ylabel('Age')\n",
        "plt.show()"
      ],
      "execution_count": null,
      "outputs": [
        {
          "output_type": "display_data",
          "data": {
            "image/png": "[encoded data removed]",
            "text/plain": [
              "<Figure size 432x288 with 1 Axes>"
            ]
          },
          "metadata": {
            "tags": []
          }
        }
      ]
    },
    {
      "cell_type": "code",
      "metadata": {
        "id": "Egea1AEh6N6D",
        "outputId": "35d3cdeb-c61e-4446-df87-4c44f26c56e1"
      },
      "source": [
        "plt.rcParams['figure.figsize'] = (10, 8)\n",
        "sns.distplot(df['age'], color = 'blue')\n",
        "plt.xlabel('Ages range for players')\n",
        "plt.ylabel('Count of players')\n",
        "plt.title('Players\\' Weight Distribution')\n",
        "plt.xticks()\n",
        "plt.show()\n",
        "print(f\"{df[df.age == df.age.max()].full_name.values[0]} is the oldest nba player and is ({df.age.max()} years old)\")\n",
        "print(f\"{df[df.age == df.age.min()].full_name.values[0]} is the youngest nba players and is ({df.age.min()} years old)\")"
      ],
      "execution_count": null,
      "outputs": [
        {
          "output_type": "display_data",
          "data": {
            "image/png": "[encoded data removed]",
            "text/plain": [
              "<Figure size 720x576 with 1 Axes>"
            ]
          },
          "metadata": {
            "tags": []
          }
        },
        {
          "output_type": "stream",
          "text": [
            "Pau Gasol is the oldest nba player and is (40 years old)\n",
            "Sekou Doumbouya is the youngest nba players and is (19 years old)\n"
          ],
          "name": "stdout"
        }
      ]
    },
    {
      "cell_type": "markdown",
      "metadata": {
        "id": "mPi0FCM66N6E"
      },
      "source": [
        "### Salary distribution based on player position"
      ]
    },
    {
      "cell_type": "code",
      "metadata": {
        "id": "DrwVcRY66N6E",
        "outputId": "53991d91-fd5b-46de-a746-d163a7626066"
      },
      "source": [
        "plt.figure(figsize=(15, 8))\n",
        "plt.xlabel(\"Position\", fontsize=14)\n",
        "plt.ylabel(\"Salary\", fontsize=14)\n",
        "plt.title(\"Salary distribution based on players positions\", fontsize=18)\n",
        "sns.boxplot(x=\"position\", y=\"salary\", data=df, palette=\"rocket\");"
      ],
      "execution_count": null,
      "outputs": [
        {
          "output_type": "display_data",
          "data": {
            "image/png": "[encoded data removed]",
            "text/plain": [
              "<Figure size 1080x576 with 1 Axes>"
            ]
          },
          "metadata": {
            "tags": []
          }
        }
      ]
    },
    {
      "cell_type": "markdown",
      "metadata": {
        "id": "ygoCOaOI6N6E"
      },
      "source": [
        "### Height distribution based on player position"
      ]
    },
    {
      "cell_type": "code",
      "metadata": {
        "id": "ahbmy5TN6N6E",
        "outputId": "c4a34eee-73b8-4d13-d6ad-492137f5d32f"
      },
      "source": [
        "plt.figure(figsize=(15, 8))\n",
        "plt.xlabel(\"Position\", fontsize=14)\n",
        "plt.ylabel(\"Height\", fontsize=14)\n",
        "plt.title(\"Height distribution based on players positions\", fontsize=18)\n",
        "sns.boxplot(x=\"position\", y=\"height_cm\", data=df, palette=\"rocket\");"
      ],
      "execution_count": null,
      "outputs": [
        {
          "output_type": "display_data",
          "data": {
            "image/png": "[encoded data removed]",
            "text/plain": [
              "<Figure size 1080x576 with 1 Axes>"
            ]
          },
          "metadata": {
            "tags": []
          }
        }
      ]
    },
    {
      "cell_type": "markdown",
      "metadata": {
        "id": "s0r3K91n6N6E"
      },
      "source": [
        "# *******USER INTERACTIVE PROGRAM: PLEASE TRY THIS*******"
      ]
    },
    {
      "cell_type": "markdown",
      "metadata": {
        "id": "sYSFZ-fV6N6F"
      },
      "source": [
        "### Welcome message\n",
        "Prints a welcome message at the begaining of the program:"
      ]
    },
    {
      "cell_type": "code",
      "metadata": {
        "id": "iovctHU-6N6F",
        "outputId": "7574e16b-34c8-4736-a6dc-f27da0da0c3c"
      },
      "source": [
        "def welcome_1():\n",
        "    print('='*55)\n",
        "    print('WELCOME TO THE NBA 2K20 PLAYER ANALYSIS')\n",
        "    print('='*55)\n",
        "    print('')\n",
        "\n",
        "    user_fname = input('Enter your first name: ')\n",
        "    user_lname = input('Enter your last name: ')\n",
        "\n",
        "    print('')\n",
        "    print('='*55)\n",
        "    print('Hello',user_fname.upper(), user_lname.upper()+',', 'let\\'s start the analysis!')\n",
        "\n",
        "welcome_1()"
      ],
      "execution_count": null,
      "outputs": [
        {
          "output_type": "stream",
          "text": [
            "=======================================================\n",
            "WELCOME TO THE NBA 2K20 PLAYER ANALYSIS\n",
            "=======================================================\n",
            "\n",
            "Enter your first name: faze\n",
            "Enter your last name: k\n",
            "\n",
            "=======================================================\n",
            "Hello FAZE K, let's start the analysis!\n"
          ],
          "name": "stdout"
        }
      ]
    },
    {
      "cell_type": "markdown",
      "metadata": {
        "id": "QDBzHCir6N6F"
      },
      "source": [
        "### Input user's favorite team from the data set"
      ]
    },
    {
      "cell_type": "code",
      "metadata": {
        "id": "ol0TfYkT6N6F",
        "outputId": "a34ac01a-8db4-40e2-887d-4635eb6eda33"
      },
      "source": [
        "print('We have the following NBA teams included in our data set: \\n')   \n",
        "team_list = list(set(df['team']))    #list out the distinct teams in the dataset\n",
        "team_list.remove('Team Unknown')     #remove the unknown values from the list\n",
        "team_list.sort()\n",
        "\n",
        "counter = 1  #use the variable counter to store the counting number to print\n",
        "for i in team_list:    #iterating over the distinct team values\n",
        "    print('{:2}'.format(counter),':',i)       #print all the distinct team along with a counting id\n",
        "    counter = counter + 1\n",
        "    \n",
        "print()    #to create a blank line\n",
        "    \n",
        "while True:\n",
        "    user_favorite_team_num = input('Which one is your favorite team? (enter the number next to the team name): ')\n",
        "    \n",
        "    if not(user_favorite_team_num.isdigit()):          #using the method .isdigit() to check if the input is digit\n",
        "        print('**ERROR: Please enter a valid integer**')\n",
        "        continue       \n",
        "        \n",
        "    else:      #check if the input is not within the listed range i.e. number of distinct team\n",
        "        if not(int(user_favorite_team_num) > 0 and int(user_favorite_team_num) <= len(team_list)):\n",
        "            print('**ERROR: Please enter a valid number within the range specified (1-30)**')\n",
        "            continue\n",
        "    \n",
        "    user_input_team_num = int(user_favorite_team_num)-1\n",
        "    user_favorite_team = team_list[user_input_team_num]\n",
        "    print('')\n",
        "    print('That\\'s Awesome! We will look in more details for',user_favorite_team.upper(),'as we progress.')\n",
        "    break\n"
      ],
      "execution_count": null,
      "outputs": [
        {
          "output_type": "stream",
          "text": [
            "We have the following NBA teams included in our data set: \n",
            "\n",
            " 1 : Atlanta Hawks\n",
            " 2 : Boston Celtics\n",
            " 3 : Brooklyn Nets\n",
            " 4 : Charlotte Hornets\n",
            " 5 : Chicago Bulls\n",
            " 6 : Cleveland Cavaliers\n",
            " 7 : Dallas Mavericks\n",
            " 8 : Denver Nuggets\n",
            " 9 : Detroit Pistons\n",
            "10 : Golden State Warriors\n",
            "11 : Houston Rockets\n",
            "12 : Indiana Pacers\n",
            "13 : Los Angeles Clippers\n",
            "14 : Los Angeles Lakers\n",
            "15 : Memphis Grizzlies\n",
            "16 : Miami Heat\n",
            "17 : Milwaukee Bucks\n",
            "18 : Minnesota Timberwolves\n",
            "19 : New Orleans Pelicans\n",
            "20 : New York Knicks\n",
            "21 : Oklahoma City Thunder\n",
            "22 : Orlando Magic\n",
            "23 : Philadelphia 76ers\n",
            "24 : Phoenix Suns\n",
            "25 : Portland Trail Blazers\n",
            "26 : Sacramento Kings\n",
            "27 : San Antonio Spurs\n",
            "28 : Toronto Raptors\n",
            "29 : Utah Jazz\n",
            "30 : Washington Wizards\n",
            "\n",
            "Which one is your favorite team? (enter the number next to the team name): 16\n",
            "\n",
            "That's Awesome! We will look in more details for MIAMI HEAT as we progress.\n"
          ],
          "name": "stdout"
        }
      ]
    },
    {
      "cell_type": "code",
      "metadata": {
        "id": "C7aJMNyL6N6F",
        "outputId": "b0b8e205-8e1d-4d19-e896-8955e5daeb99"
      },
      "source": [
        "def export():\n",
        "    option = input('Do you want to export these analysis to a txt file?(Y/N)').upper()\n",
        "    if option == 'Y':\n",
        "        name = input('Enter the name for your txt file: ')\n",
        "        outfile = open(name, 'w')\n",
        "        \n",
        "        print('HERE IS THE LIST OF TEAMS', file = outfile)\n",
        "        print('-'*40, file = outfile)\n",
        "        for i in team_list:\n",
        "            print(i, file = outfile)\n",
        "            \n",
        "        print('-'*80, file = outfile)\n",
        "        print('HERE IS THE SUMMARY STATISTICS OF: '+ user_favorite_team, file = outfile)\n",
        "        user_fav_team_data = df[df['team'] == user_favorite_team]\n",
        "        print(user_fav_team_data.describe(),file = outfile)\n",
        "        print('-'*80, file = outfile)\n",
        "        \n",
        "        print('THE HIGHEST PAID PLAYER IN: '+ user_favorite_team, file = outfile)\n",
        "        MEP_userfav = user_fav_team_data[user_fav_team_data['salary'] == user_fav_team_data['salary'].max()].full_name.values[0]\n",
        "        salary_userfav = user_fav_team_data['salary'].max()\n",
        "        print(MEP_userfav, 'is the most expensive player and he earns $' , salary_userfav , 'per year', file = outfile )\n",
        "        print('-'*80, file = outfile)\n",
        "        \n",
        "        print('THE LEAST PAID PLAYER IN: '+ user_favorite_team, file = outfile)\n",
        "        LEP_userfav = user_fav_team_data[user_fav_team_data['salary'] == user_fav_team_data['salary'].min()].full_name.values[0]\n",
        "        salary_userfav_low = user_fav_team_data['salary'].min()\n",
        "        print(LEP_userfav, 'is the least expensive player and he earns $' , salary_userfav_low, 'per year', file = outfile  )\n",
        "        print('-'*80, file = outfile)\n",
        "    \n",
        "        print('TOP 5 RATED PLAYER IN: '+ user_favorite_team, file = outfile)\n",
        "        hightest_rated_players_uf = user_fav_team_data.sort_values(by = ['rating'], ascending=False).head(5)\n",
        "        print(hightest_rated_players_uf[['full_name','rating']], file = outfile )\n",
        "        print('-'*80, file = outfile)\n",
        "        \n",
        "        print('Your file', name, 'has been saved down.')\n",
        "        outfile.close()\n",
        "    print('THANK YOU')\n",
        "    \n",
        "export()"
      ],
      "execution_count": null,
      "outputs": [
        {
          "output_type": "stream",
          "text": [
            "Do you want to export these analysis to a txt file?(Y/N)y\n",
            "Enter the name for your txt file: fazel k\n",
            "Your file fazel k has been saved down.\n",
            "THANK YOU\n"
          ],
          "name": "stdout"
        }
      ]
    },
    {
      "cell_type": "code",
      "metadata": {
        "id": "1DsY3pVP6N6F"
      },
      "source": [
        ""
      ],
      "execution_count": null,
      "outputs": []
    }
  ]
}